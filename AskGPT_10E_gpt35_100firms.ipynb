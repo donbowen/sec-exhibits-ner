{
 "cells": [
  {
   "cell_type": "markdown",
   "metadata": {
    "id": "XkVlhQlZu4kL"
   },
   "source": [
    "## API key\n",
    "\n",
    "### Get one\n",
    "\n",
    "To run this code, you need an API key from Open AI. This involves giving them your credit card and setting up spending limits. \n",
    "\n",
    "### Using it\n",
    "\n",
    "I run this file locally via Jupyterlab, so it's in a folder with `gpt_api.txt` which contains my API key. \n",
    "\n",
    "To run this file in Google Colab, you _could_ directly type your API key into the notebook below, **but this is a bad idea.** \n",
    "\n",
    "Instead, one common way is to store the API key in a file on your Google Drive and then access it from the Colab notebook. Here's how you can do it:\n",
    "\n",
    "1.    Create a new text file on your Google Drive and store your API key in it. Name the file something like `gpt_api.txt`.\n",
    "1.    Mount your Google Drive to the Google Colab notebook by running the following code block.\n",
    "    ```python\n",
    "    import openai\n",
    "    from google.colab import drive\n",
    "    drive.mount('/content/drive')\n",
    "    with open('/content/drive/gpt_api.txt', 'r') as f:\n",
    "        openai.api_key = f.read().strip()\n",
    "    ```\n",
    "1.     This will prompt you to click on a link to authorize the connection. Follow the instructions, and copy the authorization code into the input box that appears in the Colab notebook. You can now continue on. "
   ]
  },
  {
   "cell_type": "code",
   "execution_count": 1,
   "metadata": {
    "id": "E-YUQkM4lqZS"
   },
   "outputs": [],
   "source": [
    "# !pip install openai "
   ]
  },
  {
   "cell_type": "code",
   "execution_count": 2,
   "metadata": {
    "colab": {
     "base_uri": "https://localhost:8080/"
    },
    "id": "FwGSI_l-lQI0",
    "outputId": "48bed0b3-2502-49c2-d1a1-76598c0d0a40"
   },
   "outputs": [],
   "source": [
    "import openai\n",
    "\n",
    "# don't type the key in this file! open it from file that is in gitignore, github secrets, or in your google drive\n",
    "\n",
    "with open('gpt_api.txt', 'r') as f:\n",
    "    openai.api_key = f.read().strip()"
   ]
  },
  {
   "cell_type": "markdown",
   "metadata": {},
   "source": [
    "## Load firms to look for"
   ]
  },
  {
   "cell_type": "code",
   "execution_count": 3,
   "metadata": {},
   "outputs": [
    {
     "data": {
      "text/html": [
       "<div>\n",
       "<style scoped>\n",
       "    .dataframe tbody tr th:only-of-type {\n",
       "        vertical-align: middle;\n",
       "    }\n",
       "\n",
       "    .dataframe tbody tr th {\n",
       "        vertical-align: top;\n",
       "    }\n",
       "\n",
       "    .dataframe thead th {\n",
       "        text-align: right;\n",
       "    }\n",
       "</style>\n",
       "<table border=\"1\" class=\"dataframe\">\n",
       "  <thead>\n",
       "    <tr style=\"text-align: right;\">\n",
       "      <th></th>\n",
       "      <th>gvkey</th>\n",
       "      <th>conm</th>\n",
       "      <th>cik</th>\n",
       "      <th>nobs</th>\n",
       "    </tr>\n",
       "  </thead>\n",
       "  <tbody>\n",
       "    <tr>\n",
       "      <th>0</th>\n",
       "      <td>176768</td>\n",
       "      <td>BRIDGELINE DIGITAL INC</td>\n",
       "      <td>0001378590</td>\n",
       "      <td>7</td>\n",
       "    </tr>\n",
       "    <tr>\n",
       "      <th>1</th>\n",
       "      <td>19998</td>\n",
       "      <td>MEDPACE HOLDINGS INC</td>\n",
       "      <td>0001668397</td>\n",
       "      <td>22</td>\n",
       "    </tr>\n",
       "    <tr>\n",
       "      <th>2</th>\n",
       "      <td>4340</td>\n",
       "      <td>EMULEX CORP</td>\n",
       "      <td>0000350917</td>\n",
       "      <td>56</td>\n",
       "    </tr>\n",
       "    <tr>\n",
       "      <th>3</th>\n",
       "      <td>20129</td>\n",
       "      <td>MATERIALISE NV  -ADR</td>\n",
       "      <td>0001091223</td>\n",
       "      <td>66</td>\n",
       "    </tr>\n",
       "    <tr>\n",
       "      <th>4</th>\n",
       "      <td>22653</td>\n",
       "      <td>VISTA OUTDOOR INC</td>\n",
       "      <td>0001616318</td>\n",
       "      <td>9</td>\n",
       "    </tr>\n",
       "    <tr>\n",
       "      <th>...</th>\n",
       "      <td>...</td>\n",
       "      <td>...</td>\n",
       "      <td>...</td>\n",
       "      <td>...</td>\n",
       "    </tr>\n",
       "    <tr>\n",
       "      <th>95</th>\n",
       "      <td>66726</td>\n",
       "      <td>APPLIED NEUROSOLUTIONS INC</td>\n",
       "      <td>0000872947</td>\n",
       "      <td>3</td>\n",
       "    </tr>\n",
       "    <tr>\n",
       "      <th>96</th>\n",
       "      <td>63489</td>\n",
       "      <td>INTERLINK COMPUTER SCIENCES</td>\n",
       "      <td>0000745597</td>\n",
       "      <td>1</td>\n",
       "    </tr>\n",
       "    <tr>\n",
       "      <th>97</th>\n",
       "      <td>9799</td>\n",
       "      <td>SOLITRON DEVICES INC</td>\n",
       "      <td>0000091668</td>\n",
       "      <td>39</td>\n",
       "    </tr>\n",
       "    <tr>\n",
       "      <th>98</th>\n",
       "      <td>30172</td>\n",
       "      <td>LXR BIOTECHNOLOGY INC</td>\n",
       "      <td>0000899504</td>\n",
       "      <td>2</td>\n",
       "    </tr>\n",
       "    <tr>\n",
       "      <th>99</th>\n",
       "      <td>18677</td>\n",
       "      <td>PATTERN ENERGY GROUP INC</td>\n",
       "      <td>0001561660</td>\n",
       "      <td>32</td>\n",
       "    </tr>\n",
       "  </tbody>\n",
       "</table>\n",
       "<p>100 rows × 4 columns</p>\n",
       "</div>"
      ],
      "text/plain": [
       "     gvkey                         conm         cik  nobs\n",
       "0   176768       BRIDGELINE DIGITAL INC  0001378590     7\n",
       "1    19998         MEDPACE HOLDINGS INC  0001668397    22\n",
       "2     4340                  EMULEX CORP  0000350917    56\n",
       "3    20129         MATERIALISE NV  -ADR  0001091223    66\n",
       "4    22653            VISTA OUTDOOR INC  0001616318     9\n",
       "..     ...                          ...         ...   ...\n",
       "95   66726   APPLIED NEUROSOLUTIONS INC  0000872947     3\n",
       "96   63489  INTERLINK COMPUTER SCIENCES  0000745597     1\n",
       "97    9799         SOLITRON DEVICES INC  0000091668    39\n",
       "98   30172        LXR BIOTECHNOLOGY INC  0000899504     2\n",
       "99   18677     PATTERN ENERGY GROUP INC  0001561660    32\n",
       "\n",
       "[100 rows x 4 columns]"
      ]
     },
     "execution_count": 3,
     "metadata": {},
     "output_type": "execute_result"
    }
   ],
   "source": [
    "import pandas as pd\n",
    "\n",
    "firms = pd.read_csv('inputs/compu_cust_random100_new.csv')\n",
    "firms['cik'] = firms['cik'].astype(str).str.zfill(10)\n",
    "firms"
   ]
  },
  {
   "cell_type": "code",
   "execution_count": 106,
   "metadata": {},
   "outputs": [
    {
     "data": {
      "text/plain": [
       "1832"
      ]
     },
     "execution_count": 106,
     "metadata": {},
     "output_type": "execute_result"
    }
   ],
   "source": [
    "firms.nobs.sum()"
   ]
  },
  {
   "cell_type": "markdown",
   "metadata": {},
   "source": [
    "## Load the filings of those firms.\n",
    "\n",
    "Also, add the count of E10s to the firms data. \n",
    "\n",
    "These are all coded as either asset purchase or purchase agreement.\n",
    "\n",
    "Some should be removed: \"stock purchase\"."
   ]
  },
  {
   "cell_type": "code",
   "execution_count": 4,
   "metadata": {},
   "outputs": [],
   "source": [
    "# load and reduce to our firms\n",
    "filings = pd.read_stata('inputs/EX10_10K_1997_2022_purchase.dta')\n",
    "filings = filings.merge(firms['cik'])"
   ]
  },
  {
   "cell_type": "code",
   "execution_count": 107,
   "metadata": {},
   "outputs": [
    {
     "data": {
      "text/html": [
       "<div>\n",
       "<style scoped>\n",
       "    .dataframe tbody tr th:only-of-type {\n",
       "        vertical-align: middle;\n",
       "    }\n",
       "\n",
       "    .dataframe tbody tr th {\n",
       "        vertical-align: top;\n",
       "    }\n",
       "\n",
       "    .dataframe thead th {\n",
       "        text-align: right;\n",
       "    }\n",
       "</style>\n",
       "<table border=\"1\" class=\"dataframe\">\n",
       "  <thead>\n",
       "    <tr style=\"text-align: right;\">\n",
       "      <th></th>\n",
       "      <th>cik</th>\n",
       "      <th>fdate</th>\n",
       "      <th>form</th>\n",
       "      <th>coname</th>\n",
       "      <th>wrdsfname</th>\n",
       "      <th>fname</th>\n",
       "      <th>fsize</th>\n",
       "      <th>rdate</th>\n",
       "      <th>secadate</th>\n",
       "      <th>secatime</th>\n",
       "      <th>sequence</th>\n",
       "      <th>type</th>\n",
       "      <th>description</th>\n",
       "      <th>filename</th>\n",
       "      <th>accession</th>\n",
       "      <th>removed</th>\n",
       "      <th>asset_purchase</th>\n",
       "      <th>purchase_agreement</th>\n",
       "      <th>path</th>\n",
       "    </tr>\n",
       "  </thead>\n",
       "  <tbody>\n",
       "    <tr>\n",
       "      <th>0</th>\n",
       "      <td>0000016058</td>\n",
       "      <td>2003-09-29</td>\n",
       "      <td>10-K</td>\n",
       "      <td>CACI INTERNATIONAL INC /DE/</td>\n",
       "      <td>000001/16058/0001193125-03-055255.txt</td>\n",
       "      <td>edgar/data/16058/0001193125-03-055255.txt</td>\n",
       "      <td>2448497.0</td>\n",
       "      <td>2003-06-30</td>\n",
       "      <td>2003-09-29</td>\n",
       "      <td>1960-01-01 14:26:27</td>\n",
       "      <td>3.0</td>\n",
       "      <td>EX-10.12</td>\n",
       "      <td>EXHIBIT 10.12</td>\n",
       "      <td>dex1012.htm</td>\n",
       "      <td>0001193125-03-055255</td>\n",
       "      <td></td>\n",
       "      <td>1</td>\n",
       "      <td>1</td>\n",
       "      <td>C:\\Users\\DonsLaptop\\Dropbox\\SECExhibits\\data\\Raw_Exhibit_Files/16058/000119312503055255/dex1012.htm</td>\n",
       "    </tr>\n",
       "    <tr>\n",
       "      <th>1</th>\n",
       "      <td>0000016058</td>\n",
       "      <td>2003-09-29</td>\n",
       "      <td>10-K</td>\n",
       "      <td>CACI INTERNATIONAL INC /DE/</td>\n",
       "      <td>000001/16058/0001193125-03-055255.txt</td>\n",
       "      <td>edgar/data/16058/0001193125-03-055255.txt</td>\n",
       "      <td>2448497.0</td>\n",
       "      <td>2003-06-30</td>\n",
       "      <td>2003-09-29</td>\n",
       "      <td>1960-01-01 14:26:27</td>\n",
       "      <td>5.0</td>\n",
       "      <td>EX-10.14</td>\n",
       "      <td>EXHIBIT 10.14</td>\n",
       "      <td>dex1014.htm</td>\n",
       "      <td>0001193125-03-055255</td>\n",
       "      <td></td>\n",
       "      <td>0</td>\n",
       "      <td>1</td>\n",
       "      <td>C:\\Users\\DonsLaptop\\Dropbox\\SECExhibits\\data\\Raw_Exhibit_Files/16058/000119312503055255/dex1014.htm</td>\n",
       "    </tr>\n",
       "    <tr>\n",
       "      <th>2</th>\n",
       "      <td>0000016058</td>\n",
       "      <td>2003-09-29</td>\n",
       "      <td>10-K</td>\n",
       "      <td>CACI INTERNATIONAL INC /DE/</td>\n",
       "      <td>000001/16058/0001193125-03-055255.txt</td>\n",
       "      <td>edgar/data/16058/0001193125-03-055255.txt</td>\n",
       "      <td>2448497.0</td>\n",
       "      <td>2003-06-30</td>\n",
       "      <td>2003-09-29</td>\n",
       "      <td>1960-01-01 14:26:27</td>\n",
       "      <td>6.0</td>\n",
       "      <td>EX-10.15</td>\n",
       "      <td>EXHIBIT 10.15</td>\n",
       "      <td>dex1015.htm</td>\n",
       "      <td>0001193125-03-055255</td>\n",
       "      <td></td>\n",
       "      <td>1</td>\n",
       "      <td>1</td>\n",
       "      <td>C:\\Users\\DonsLaptop\\Dropbox\\SECExhibits\\data\\Raw_Exhibit_Files/16058/000119312503055255/dex1015.htm</td>\n",
       "    </tr>\n",
       "    <tr>\n",
       "      <th>3</th>\n",
       "      <td>0000016058</td>\n",
       "      <td>2004-09-13</td>\n",
       "      <td>10-K</td>\n",
       "      <td>CACI INTERNATIONAL INC /DE/</td>\n",
       "      <td>000001/16058/0001193125-04-155541.txt</td>\n",
       "      <td>edgar/data/16058/0001193125-04-155541.txt</td>\n",
       "      <td>2830739.0</td>\n",
       "      <td>2004-06-30</td>\n",
       "      <td>2004-09-13</td>\n",
       "      <td>1960-01-01 14:08:14</td>\n",
       "      <td>2.0</td>\n",
       "      <td>EX-10.18</td>\n",
       "      <td>EXHIBIT 10.18</td>\n",
       "      <td>dex1018.htm</td>\n",
       "      <td>0001193125-04-155541</td>\n",
       "      <td></td>\n",
       "      <td>0</td>\n",
       "      <td>1</td>\n",
       "      <td>C:\\Users\\DonsLaptop\\Dropbox\\SECExhibits\\data\\Raw_Exhibit_Files/16058/000119312504155541/dex1018.htm</td>\n",
       "    </tr>\n",
       "    <tr>\n",
       "      <th>4</th>\n",
       "      <td>0000016058</td>\n",
       "      <td>2004-09-13</td>\n",
       "      <td>10-K</td>\n",
       "      <td>CACI INTERNATIONAL INC /DE/</td>\n",
       "      <td>000001/16058/0001193125-04-155541.txt</td>\n",
       "      <td>edgar/data/16058/0001193125-04-155541.txt</td>\n",
       "      <td>2830739.0</td>\n",
       "      <td>2004-06-30</td>\n",
       "      <td>2004-09-13</td>\n",
       "      <td>1960-01-01 14:08:14</td>\n",
       "      <td>3.0</td>\n",
       "      <td>EX-10.19</td>\n",
       "      <td>EXHIBIT 10.19</td>\n",
       "      <td>dex1019.htm</td>\n",
       "      <td>0001193125-04-155541</td>\n",
       "      <td></td>\n",
       "      <td>0</td>\n",
       "      <td>1</td>\n",
       "      <td>C:\\Users\\DonsLaptop\\Dropbox\\SECExhibits\\data\\Raw_Exhibit_Files/16058/000119312504155541/dex1019.htm</td>\n",
       "    </tr>\n",
       "    <tr>\n",
       "      <th>...</th>\n",
       "      <td>...</td>\n",
       "      <td>...</td>\n",
       "      <td>...</td>\n",
       "      <td>...</td>\n",
       "      <td>...</td>\n",
       "      <td>...</td>\n",
       "      <td>...</td>\n",
       "      <td>...</td>\n",
       "      <td>...</td>\n",
       "      <td>...</td>\n",
       "      <td>...</td>\n",
       "      <td>...</td>\n",
       "      <td>...</td>\n",
       "      <td>...</td>\n",
       "      <td>...</td>\n",
       "      <td>...</td>\n",
       "      <td>...</td>\n",
       "      <td>...</td>\n",
       "      <td>...</td>\n",
       "    </tr>\n",
       "    <tr>\n",
       "      <th>84</th>\n",
       "      <td>0001828182</td>\n",
       "      <td>2021-03-25</td>\n",
       "      <td>10-K</td>\n",
       "      <td>Signify Health, Inc.</td>\n",
       "      <td>000182/1828182/0001828182-21-000006.txt</td>\n",
       "      <td>edgar/data/1828182/0001828182-21-000006.txt</td>\n",
       "      <td>NaN</td>\n",
       "      <td>2020-12-31</td>\n",
       "      <td>2021-03-25</td>\n",
       "      <td>1960-01-01 16:40:57</td>\n",
       "      <td>3.0</td>\n",
       "      <td>EX-10.4</td>\n",
       "      <td>EX-10.4</td>\n",
       "      <td>exhibit104.htm</td>\n",
       "      <td>0001828182-21-000006</td>\n",
       "      <td></td>\n",
       "      <td>0</td>\n",
       "      <td>1</td>\n",
       "      <td>C:\\Users\\DonsLaptop\\Dropbox\\SECExhibits\\data\\Raw_Exhibit_Files/1828182/000182818221000006/exhibit104.htm</td>\n",
       "    </tr>\n",
       "    <tr>\n",
       "      <th>85</th>\n",
       "      <td>0001828182</td>\n",
       "      <td>2021-03-25</td>\n",
       "      <td>10-K</td>\n",
       "      <td>Signify Health, Inc.</td>\n",
       "      <td>000182/1828182/0001828182-21-000006.txt</td>\n",
       "      <td>edgar/data/1828182/0001828182-21-000006.txt</td>\n",
       "      <td>NaN</td>\n",
       "      <td>2020-12-31</td>\n",
       "      <td>2021-03-25</td>\n",
       "      <td>1960-01-01 16:40:57</td>\n",
       "      <td>6.0</td>\n",
       "      <td>EX-10.9</td>\n",
       "      <td>EX-10.9</td>\n",
       "      <td>exhibit109.htm</td>\n",
       "      <td>0001828182-21-000006</td>\n",
       "      <td></td>\n",
       "      <td>0</td>\n",
       "      <td>1</td>\n",
       "      <td>C:\\Users\\DonsLaptop\\Dropbox\\SECExhibits\\data\\Raw_Exhibit_Files/1828182/000182818221000006/exhibit109.htm</td>\n",
       "    </tr>\n",
       "    <tr>\n",
       "      <th>86</th>\n",
       "      <td>0001828182</td>\n",
       "      <td>2022-03-03</td>\n",
       "      <td>10-K</td>\n",
       "      <td>Signify Health, Inc.</td>\n",
       "      <td>000182/1828182/0001828182-22-000018.txt</td>\n",
       "      <td>edgar/data/1828182/0001828182-22-000018.txt</td>\n",
       "      <td>2983571.0</td>\n",
       "      <td>2021-12-31</td>\n",
       "      <td>2022-03-03</td>\n",
       "      <td>1960-01-01 17:03:32</td>\n",
       "      <td>2.0</td>\n",
       "      <td>EX-10.9</td>\n",
       "      <td>EX-10.9</td>\n",
       "      <td>exhibit109123121.htm</td>\n",
       "      <td>0001828182-22-000018</td>\n",
       "      <td>N</td>\n",
       "      <td>0</td>\n",
       "      <td>1</td>\n",
       "      <td>C:\\Users\\DonsLaptop\\Dropbox\\SECExhibits\\data\\Raw_Exhibit_Files/1828182/000182818222000018/exhibit109123121.htm</td>\n",
       "    </tr>\n",
       "    <tr>\n",
       "      <th>87</th>\n",
       "      <td>0001828182</td>\n",
       "      <td>2022-03-03</td>\n",
       "      <td>10-K</td>\n",
       "      <td>Signify Health, Inc.</td>\n",
       "      <td>000182/1828182/0001828182-22-000018.txt</td>\n",
       "      <td>edgar/data/1828182/0001828182-22-000018.txt</td>\n",
       "      <td>2983571.0</td>\n",
       "      <td>2021-12-31</td>\n",
       "      <td>2022-03-03</td>\n",
       "      <td>1960-01-01 17:03:32</td>\n",
       "      <td>3.0</td>\n",
       "      <td>EX-10.10</td>\n",
       "      <td>EX-10.10</td>\n",
       "      <td>exhibit1010123121.htm</td>\n",
       "      <td>0001828182-22-000018</td>\n",
       "      <td>N</td>\n",
       "      <td>0</td>\n",
       "      <td>1</td>\n",
       "      <td>C:\\Users\\DonsLaptop\\Dropbox\\SECExhibits\\data\\Raw_Exhibit_Files/1828182/000182818222000018/exhibit1010123121.htm</td>\n",
       "    </tr>\n",
       "    <tr>\n",
       "      <th>88</th>\n",
       "      <td>0001856028</td>\n",
       "      <td>2022-03-29</td>\n",
       "      <td>10-K</td>\n",
       "      <td>Stronghold Digital Mining, Inc.</td>\n",
       "      <td>000185/1856028/0001628280-22-007706.txt</td>\n",
       "      <td>edgar/data/1856028/0001628280-22-007706.txt</td>\n",
       "      <td>2569879.0</td>\n",
       "      <td>2021-12-31</td>\n",
       "      <td>2022-03-29</td>\n",
       "      <td>1960-01-01 16:20:42</td>\n",
       "      <td>3.0</td>\n",
       "      <td>EX-10.21</td>\n",
       "      <td>EX-10.21</td>\n",
       "      <td>filingversion-sdig10xkexxs.htm</td>\n",
       "      <td>0001628280-22-007706</td>\n",
       "      <td>N</td>\n",
       "      <td>0</td>\n",
       "      <td>1</td>\n",
       "      <td>C:\\Users\\DonsLaptop\\Dropbox\\SECExhibits\\data\\Raw_Exhibit_Files/1856028/000162828022007706/filingversion-sdig10xkexxs.htm</td>\n",
       "    </tr>\n",
       "  </tbody>\n",
       "</table>\n",
       "<p>89 rows × 19 columns</p>\n",
       "</div>"
      ],
      "text/plain": [
       "           cik      fdate  form                           coname  \\\n",
       "0   0000016058 2003-09-29  10-K      CACI INTERNATIONAL INC /DE/   \n",
       "1   0000016058 2003-09-29  10-K      CACI INTERNATIONAL INC /DE/   \n",
       "2   0000016058 2003-09-29  10-K      CACI INTERNATIONAL INC /DE/   \n",
       "3   0000016058 2004-09-13  10-K      CACI INTERNATIONAL INC /DE/   \n",
       "4   0000016058 2004-09-13  10-K      CACI INTERNATIONAL INC /DE/   \n",
       "..         ...        ...   ...                              ...   \n",
       "84  0001828182 2021-03-25  10-K             Signify Health, Inc.   \n",
       "85  0001828182 2021-03-25  10-K             Signify Health, Inc.   \n",
       "86  0001828182 2022-03-03  10-K             Signify Health, Inc.   \n",
       "87  0001828182 2022-03-03  10-K             Signify Health, Inc.   \n",
       "88  0001856028 2022-03-29  10-K  Stronghold Digital Mining, Inc.   \n",
       "\n",
       "                                  wrdsfname  \\\n",
       "0     000001/16058/0001193125-03-055255.txt   \n",
       "1     000001/16058/0001193125-03-055255.txt   \n",
       "2     000001/16058/0001193125-03-055255.txt   \n",
       "3     000001/16058/0001193125-04-155541.txt   \n",
       "4     000001/16058/0001193125-04-155541.txt   \n",
       "..                                      ...   \n",
       "84  000182/1828182/0001828182-21-000006.txt   \n",
       "85  000182/1828182/0001828182-21-000006.txt   \n",
       "86  000182/1828182/0001828182-22-000018.txt   \n",
       "87  000182/1828182/0001828182-22-000018.txt   \n",
       "88  000185/1856028/0001628280-22-007706.txt   \n",
       "\n",
       "                                          fname      fsize      rdate  \\\n",
       "0     edgar/data/16058/0001193125-03-055255.txt  2448497.0 2003-06-30   \n",
       "1     edgar/data/16058/0001193125-03-055255.txt  2448497.0 2003-06-30   \n",
       "2     edgar/data/16058/0001193125-03-055255.txt  2448497.0 2003-06-30   \n",
       "3     edgar/data/16058/0001193125-04-155541.txt  2830739.0 2004-06-30   \n",
       "4     edgar/data/16058/0001193125-04-155541.txt  2830739.0 2004-06-30   \n",
       "..                                          ...        ...        ...   \n",
       "84  edgar/data/1828182/0001828182-21-000006.txt        NaN 2020-12-31   \n",
       "85  edgar/data/1828182/0001828182-21-000006.txt        NaN 2020-12-31   \n",
       "86  edgar/data/1828182/0001828182-22-000018.txt  2983571.0 2021-12-31   \n",
       "87  edgar/data/1828182/0001828182-22-000018.txt  2983571.0 2021-12-31   \n",
       "88  edgar/data/1856028/0001628280-22-007706.txt  2569879.0 2021-12-31   \n",
       "\n",
       "     secadate            secatime  sequence      type    description  \\\n",
       "0  2003-09-29 1960-01-01 14:26:27       3.0  EX-10.12  EXHIBIT 10.12   \n",
       "1  2003-09-29 1960-01-01 14:26:27       5.0  EX-10.14  EXHIBIT 10.14   \n",
       "2  2003-09-29 1960-01-01 14:26:27       6.0  EX-10.15  EXHIBIT 10.15   \n",
       "3  2004-09-13 1960-01-01 14:08:14       2.0  EX-10.18  EXHIBIT 10.18   \n",
       "4  2004-09-13 1960-01-01 14:08:14       3.0  EX-10.19  EXHIBIT 10.19   \n",
       "..        ...                 ...       ...       ...            ...   \n",
       "84 2021-03-25 1960-01-01 16:40:57       3.0   EX-10.4        EX-10.4   \n",
       "85 2021-03-25 1960-01-01 16:40:57       6.0   EX-10.9        EX-10.9   \n",
       "86 2022-03-03 1960-01-01 17:03:32       2.0   EX-10.9        EX-10.9   \n",
       "87 2022-03-03 1960-01-01 17:03:32       3.0  EX-10.10       EX-10.10   \n",
       "88 2022-03-29 1960-01-01 16:20:42       3.0  EX-10.21       EX-10.21   \n",
       "\n",
       "                          filename             accession removed  \\\n",
       "0                      dex1012.htm  0001193125-03-055255           \n",
       "1                      dex1014.htm  0001193125-03-055255           \n",
       "2                      dex1015.htm  0001193125-03-055255           \n",
       "3                      dex1018.htm  0001193125-04-155541           \n",
       "4                      dex1019.htm  0001193125-04-155541           \n",
       "..                             ...                   ...     ...   \n",
       "84                  exhibit104.htm  0001828182-21-000006           \n",
       "85                  exhibit109.htm  0001828182-21-000006           \n",
       "86            exhibit109123121.htm  0001828182-22-000018       N   \n",
       "87           exhibit1010123121.htm  0001828182-22-000018       N   \n",
       "88  filingversion-sdig10xkexxs.htm  0001628280-22-007706       N   \n",
       "\n",
       "    asset_purchase  purchase_agreement  \\\n",
       "0                1                   1   \n",
       "1                0                   1   \n",
       "2                1                   1   \n",
       "3                0                   1   \n",
       "4                0                   1   \n",
       "..             ...                 ...   \n",
       "84               0                   1   \n",
       "85               0                   1   \n",
       "86               0                   1   \n",
       "87               0                   1   \n",
       "88               0                   1   \n",
       "\n",
       "                                                                                                                        path  \n",
       "0                        C:\\Users\\DonsLaptop\\Dropbox\\SECExhibits\\data\\Raw_Exhibit_Files/16058/000119312503055255/dex1012.htm  \n",
       "1                        C:\\Users\\DonsLaptop\\Dropbox\\SECExhibits\\data\\Raw_Exhibit_Files/16058/000119312503055255/dex1014.htm  \n",
       "2                        C:\\Users\\DonsLaptop\\Dropbox\\SECExhibits\\data\\Raw_Exhibit_Files/16058/000119312503055255/dex1015.htm  \n",
       "3                        C:\\Users\\DonsLaptop\\Dropbox\\SECExhibits\\data\\Raw_Exhibit_Files/16058/000119312504155541/dex1018.htm  \n",
       "4                        C:\\Users\\DonsLaptop\\Dropbox\\SECExhibits\\data\\Raw_Exhibit_Files/16058/000119312504155541/dex1019.htm  \n",
       "..                                                                                                                       ...  \n",
       "84                  C:\\Users\\DonsLaptop\\Dropbox\\SECExhibits\\data\\Raw_Exhibit_Files/1828182/000182818221000006/exhibit104.htm  \n",
       "85                  C:\\Users\\DonsLaptop\\Dropbox\\SECExhibits\\data\\Raw_Exhibit_Files/1828182/000182818221000006/exhibit109.htm  \n",
       "86            C:\\Users\\DonsLaptop\\Dropbox\\SECExhibits\\data\\Raw_Exhibit_Files/1828182/000182818222000018/exhibit109123121.htm  \n",
       "87           C:\\Users\\DonsLaptop\\Dropbox\\SECExhibits\\data\\Raw_Exhibit_Files/1828182/000182818222000018/exhibit1010123121.htm  \n",
       "88  C:\\Users\\DonsLaptop\\Dropbox\\SECExhibits\\data\\Raw_Exhibit_Files/1856028/000162828022007706/filingversion-sdig10xkexxs.htm  \n",
       "\n",
       "[89 rows x 19 columns]"
      ]
     },
     "execution_count": 107,
     "metadata": {},
     "output_type": "execute_result"
    }
   ],
   "source": [
    "filings"
   ]
  },
  {
   "cell_type": "code",
   "execution_count": 5,
   "metadata": {},
   "outputs": [
    {
     "data": {
      "text/plain": [
       "28"
      ]
     },
     "execution_count": 5,
     "metadata": {},
     "output_type": "execute_result"
    }
   ],
   "source": [
    "# add E10 count var to firms df\n",
    "# (\n",
    "#     filings.merge(firms['cik'])\n",
    "#     .groupby('cik',as_index=False)\n",
    "#     ['fname'].count()\n",
    "#     .rename(columns={'fname':'E10_count'})\n",
    "#     .merge(firms,how='right')\n",
    "#     .assign(E10_count=lambda x: x['E10_count'].fillna(0).astype(int)>0)\n",
    "# )['E10_count'].sum()"
   ]
  },
  {
   "cell_type": "markdown",
   "metadata": {
    "id": "gNnWIc3umGnF"
   },
   "source": [
    "## Define key functions to do the lift"
   ]
  },
  {
   "cell_type": "markdown",
   "metadata": {},
   "source": [
    "Read this\n",
    "\n",
    "https://platform.openai.com/docs/guides/chat/introduction\n"
   ]
  },
  {
   "cell_type": "code",
   "execution_count": 6,
   "metadata": {},
   "outputs": [
    {
     "data": {
      "text/plain": [
       "<OpenAIObject chat.completion id=chatcmpl-78qNuLEJRoDYJD8PLnilPe3SCxxTs at 0x1f8935b4090> JSON: {\n",
       "  \"choices\": [\n",
       "    {\n",
       "      \"finish_reason\": \"stop\",\n",
       "      \"index\": 0,\n",
       "      \"message\": {\n",
       "        \"content\": \"The World Series in 2020 was won by the Los Angeles Dodgers. Due to the COVID-19 pandemic, the World Series was played entirely at Globe Life Field in Arlington, Texas.\",\n",
       "        \"role\": \"assistant\"\n",
       "      }\n",
       "    }\n",
       "  ],\n",
       "  \"created\": 1682342346,\n",
       "  \"id\": \"chatcmpl-78qNuLEJRoDYJD8PLnilPe3SCxxTs\",\n",
       "  \"model\": \"gpt-3.5-turbo-0301\",\n",
       "  \"object\": \"chat.completion\",\n",
       "  \"usage\": {\n",
       "    \"completion_tokens\": 38,\n",
       "    \"prompt_tokens\": 28,\n",
       "    \"total_tokens\": 66\n",
       "  }\n",
       "}"
      ]
     },
     "execution_count": 6,
     "metadata": {},
     "output_type": "execute_result"
    }
   ],
   "source": [
    "# I'm not sure which model the below is, but it's not the super cheap gpt-3.5-turbo\n",
    "\n",
    "# the cheaper option is something like this:\n",
    "openai.ChatCompletion.create(\n",
    "  model=\"gpt-3.5-turbo\",\n",
    "  messages=[\n",
    "        {\"role\": \"user\", \"content\": \"Who won the world series in 2020?\"},\n",
    "        {\"role\": \"user\", \"content\": \"Where was it played?\"}\n",
    "    ]\n",
    ")"
   ]
  },
  {
   "cell_type": "code",
   "execution_count": 7,
   "metadata": {
    "id": "8seK4DtvuqrX"
   },
   "outputs": [],
   "source": [
    "# gpt 4.0 wrote this mostly\n",
    "\n",
    "import os\n",
    "import glob\n",
    "\n",
    "import numpy as np\n",
    "import pandas as pd\n",
    "from IPython.display import (  # used during dev - display(Markdown(markdown_table)) prints nice\n",
    "    Markdown,\n",
    "    display,\n",
    ")\n",
    "from tqdm import tqdm\n",
    "from bs4 import BeautifulSoup\n",
    "\n",
    "# Set Pandas display options to show full string\n",
    "pd.set_option(\"display.max_colwidth\", None)\n",
    "\n",
    "def ask_openai(question, data):\n",
    "    prompt = f\"{data}\\n---\\n{question}\"\n",
    "    response = openai.Completion.create(\n",
    "        engine=\"text-davinci-002\",\n",
    "        prompt=prompt,\n",
    "        max_tokens=70,\n",
    "        n=1,\n",
    "        stop=None,\n",
    "        temperature=0.5,\n",
    "    )\n",
    "    return response.choices[0].text.strip()\n",
    "\n",
    "def parse_file(filename):\n",
    "\n",
    "    # Define your question related to the loan application\n",
    "    question = \"Output a tab separated list containing two items: the name of the buyer, and the name of the seller.\"\n",
    "\n",
    "    # remove the html\n",
    "    with open(filename, \"r\") as fp:\n",
    "        raw = BeautifulSoup(fp.read(), 'html.parser').get_text()\n",
    "\n",
    "    return ask_openai(question, raw[:1850])"
   ]
  },
  {
   "cell_type": "markdown",
   "metadata": {},
   "source": [
    "## Loop over files and do the thing\n"
   ]
  },
  {
   "cell_type": "code",
   "execution_count": null,
   "metadata": {},
   "outputs": [],
   "source": [
    "# filings .query('purchase_agreement==1 | asset_purchase==1'))\n",
    "# query(asset_purchase==1)\n",
    "# f'{cik no leading zeros}/{assession no dashes}/{filename}'"
   ]
  },
  {
   "cell_type": "code",
   "execution_count": 41,
   "metadata": {},
   "outputs": [],
   "source": [
    "dirpath = r'C:\\Users\\DonsLaptop\\Dropbox\\SECExhibits\\data\\Raw_Exhibit_Files'\n",
    "\n",
    "def create_path(row):\n",
    "    return f\"{dirpath}/{int(row['cik'])}/{row['accession'].replace('-', '')}/{row['filename']}\"\n",
    "\n",
    "filings['path'] = filings.apply(create_path, axis=1)"
   ]
  },
  {
   "cell_type": "code",
   "execution_count": 44,
   "metadata": {
    "id": "8seK4DtvuqrX"
   },
   "outputs": [
    {
     "name": "stderr",
     "output_type": "stream",
     "text": [
      "100%|██████████████████████████████████████████████████████████████████████████████████| 89/89 [02:13<00:00,  1.50s/it]\n"
     ]
    }
   ],
   "source": [
    "file_sentence_dict = {}\n",
    "files = filings['path'].to_list()\n",
    "\n",
    "for file in tqdm(files,total=len(files)):\n",
    "    if os.path.exists(file):    \n",
    "        file_sentence_dict.update({file: parse_file(file)}) #update the dictionary \n",
    "    else:\n",
    "        print(\"No file: \",file)"
   ]
  },
  {
   "cell_type": "markdown",
   "metadata": {},
   "source": [
    "## Examine output"
   ]
  },
  {
   "cell_type": "code",
   "execution_count": 46,
   "metadata": {},
   "outputs": [
    {
     "data": {
      "text/plain": [
       "'Condor\\nCACI'"
      ]
     },
     "execution_count": 46,
     "metadata": {},
     "output_type": "execute_result"
    }
   ],
   "source": [
    "file_sentence_dict[r'C:\\Users\\DonsLaptop\\Dropbox\\SECExhibits\\data\\Raw_Exhibit_Files/16058/000119312503055255/dex1012.htm']"
   ]
  },
  {
   "cell_type": "code",
   "execution_count": 60,
   "metadata": {},
   "outputs": [],
   "source": [
    "import re "
   ]
  },
  {
   "cell_type": "code",
   "execution_count": 104,
   "metadata": {
    "tags": []
   },
   "outputs": [
    {
     "data": {
      "text/html": [
       "<div>\n",
       "<style scoped>\n",
       "    .dataframe tbody tr th:only-of-type {\n",
       "        vertical-align: middle;\n",
       "    }\n",
       "\n",
       "    .dataframe tbody tr th {\n",
       "        vertical-align: top;\n",
       "    }\n",
       "\n",
       "    .dataframe thead th {\n",
       "        text-align: right;\n",
       "    }\n",
       "</style>\n",
       "<table border=\"1\" class=\"dataframe\">\n",
       "  <thead>\n",
       "    <tr style=\"text-align: right;\">\n",
       "      <th></th>\n",
       "      <th>document</th>\n",
       "      <th>buyer_seller</th>\n",
       "      <th>buy</th>\n",
       "      <th>sell</th>\n",
       "    </tr>\n",
       "  </thead>\n",
       "  <tbody>\n",
       "    <tr>\n",
       "      <th>0</th>\n",
       "      <td>C:\\Users\\DonsLaptop\\Dropbox\\SECExhibits\\data\\Raw_Exhibit_Files/16058/000119312503055255/dex1012.htm</td>\n",
       "      <td>Condor\\nCACI</td>\n",
       "      <td></td>\n",
       "      <td></td>\n",
       "    </tr>\n",
       "    <tr>\n",
       "      <th>1</th>\n",
       "      <td>C:\\Users\\DonsLaptop\\Dropbox\\SECExhibits\\data\\Raw_Exhibit_Files/16058/000119312503055255/dex1014.htm</td>\n",
       "      <td>CACI INTERNATIONAL INC CACI, INC. – FEDERAL APPLIED TECHNOLOGY SOLUTIONS OF NORTHERN VA, INC.</td>\n",
       "      <td>CACI INTERNATIONAL INC CACI, INC.</td>\n",
       "      <td>FEDERAL APPLIED TECHNOLOGY SOLUTIONS OF NORTHERN VA, INC.</td>\n",
       "    </tr>\n",
       "    <tr>\n",
       "      <th>2</th>\n",
       "      <td>C:\\Users\\DonsLaptop\\Dropbox\\SECExhibits\\data\\Raw_Exhibit_Files/16058/000119312503055255/dex1015.htm</td>\n",
       "      <td>CACI International Inc, CACI, Inc. - Federal\\n\\nPremier Technology, Inc, Premier Technology Group, Inc.</td>\n",
       "      <td>CACI International Inc, CACI, Inc.</td>\n",
       "      <td>Federal\\n\\nPremier Technology, Inc, Premier Technology Group, Inc.</td>\n",
       "    </tr>\n",
       "    <tr>\n",
       "      <th>3</th>\n",
       "      <td>C:\\Users\\DonsLaptop\\Dropbox\\SECExhibits\\data\\Raw_Exhibit_Files/16058/000119312504155541/dex1018.htm</td>\n",
       "      <td>CACI INTERNATIONAL INC\\nCACI, INC. - FEDERAL</td>\n",
       "      <td>CACI INTERNATIONAL INC\\nCACI, INC.</td>\n",
       "      <td>FEDERAL</td>\n",
       "    </tr>\n",
       "    <tr>\n",
       "      <th>4</th>\n",
       "      <td>C:\\Users\\DonsLaptop\\Dropbox\\SECExhibits\\data\\Raw_Exhibit_Files/16058/000119312504155541/dex1019.htm</td>\n",
       "      <td>CACI International Inc, C-CUBED Corporation</td>\n",
       "      <td></td>\n",
       "      <td></td>\n",
       "    </tr>\n",
       "    <tr>\n",
       "      <th>...</th>\n",
       "      <td>...</td>\n",
       "      <td>...</td>\n",
       "      <td>...</td>\n",
       "      <td>...</td>\n",
       "    </tr>\n",
       "    <tr>\n",
       "      <th>84</th>\n",
       "      <td>C:\\Users\\DonsLaptop\\Dropbox\\SECExhibits\\data\\Raw_Exhibit_Files/1828182/000182818221000006/exhibit104.htm</td>\n",
       "      <td>Cure TopCo, LLC\\nNew Remedy Corp.\\nNew Mountain Partners V (AIV-C), L.P.\\nCure Aggregator, LLC\\nTTCP Executive Fund - CA, LLC\\nHV Special Situations Fund L.P. (UAW)\\nTHV COH Blocker Corp</td>\n",
       "      <td>Cure TopCo, LLC\\nNew Remedy Corp.\\nNew Mountain Partners V (AIV-C), L.P.\\nCure Aggregator, LLC\\nTTCP Executive Fund</td>\n",
       "      <td>CA, LLC\\nHV Special Situations Fund L.P. (UAW)\\nTHV COH Blocker Corp</td>\n",
       "    </tr>\n",
       "    <tr>\n",
       "      <th>85</th>\n",
       "      <td>C:\\Users\\DonsLaptop\\Dropbox\\SECExhibits\\data\\Raw_Exhibit_Files/1828182/000182818221000006/exhibit109.htm</td>\n",
       "      <td>Signify Health, Inc.\\nNew Remedy Corp.</td>\n",
       "      <td></td>\n",
       "      <td></td>\n",
       "    </tr>\n",
       "    <tr>\n",
       "      <th>86</th>\n",
       "      <td>C:\\Users\\DonsLaptop\\Dropbox\\SECExhibits\\data\\Raw_Exhibit_Files/1828182/000182818222000018/exhibit109123121.htm</td>\n",
       "      <td>Cure Aggregator, LLC, Cure TopCo, LLC, and [●]</td>\n",
       "      <td></td>\n",
       "      <td></td>\n",
       "    </tr>\n",
       "    <tr>\n",
       "      <th>87</th>\n",
       "      <td>C:\\Users\\DonsLaptop\\Dropbox\\SECExhibits\\data\\Raw_Exhibit_Files/1828182/000182818222000018/exhibit1010123121.htm</td>\n",
       "      <td>Signify Health, Inc.\\nNew Remedy Corp.</td>\n",
       "      <td></td>\n",
       "      <td></td>\n",
       "    </tr>\n",
       "    <tr>\n",
       "      <th>88</th>\n",
       "      <td>C:\\Users\\DonsLaptop\\Dropbox\\SECExhibits\\data\\Raw_Exhibit_Files/1856028/000162828022007706/filingversion-sdig10xkexxs.htm</td>\n",
       "      <td>STRONGHOLD DIGITAL MINING BT, LLC\\nNYDIG ABL LLC</td>\n",
       "      <td></td>\n",
       "      <td></td>\n",
       "    </tr>\n",
       "  </tbody>\n",
       "</table>\n",
       "<p>89 rows × 4 columns</p>\n",
       "</div>"
      ],
      "text/plain": [
       "                                                                                                                    document  \\\n",
       "0                        C:\\Users\\DonsLaptop\\Dropbox\\SECExhibits\\data\\Raw_Exhibit_Files/16058/000119312503055255/dex1012.htm   \n",
       "1                        C:\\Users\\DonsLaptop\\Dropbox\\SECExhibits\\data\\Raw_Exhibit_Files/16058/000119312503055255/dex1014.htm   \n",
       "2                        C:\\Users\\DonsLaptop\\Dropbox\\SECExhibits\\data\\Raw_Exhibit_Files/16058/000119312503055255/dex1015.htm   \n",
       "3                        C:\\Users\\DonsLaptop\\Dropbox\\SECExhibits\\data\\Raw_Exhibit_Files/16058/000119312504155541/dex1018.htm   \n",
       "4                        C:\\Users\\DonsLaptop\\Dropbox\\SECExhibits\\data\\Raw_Exhibit_Files/16058/000119312504155541/dex1019.htm   \n",
       "..                                                                                                                       ...   \n",
       "84                  C:\\Users\\DonsLaptop\\Dropbox\\SECExhibits\\data\\Raw_Exhibit_Files/1828182/000182818221000006/exhibit104.htm   \n",
       "85                  C:\\Users\\DonsLaptop\\Dropbox\\SECExhibits\\data\\Raw_Exhibit_Files/1828182/000182818221000006/exhibit109.htm   \n",
       "86            C:\\Users\\DonsLaptop\\Dropbox\\SECExhibits\\data\\Raw_Exhibit_Files/1828182/000182818222000018/exhibit109123121.htm   \n",
       "87           C:\\Users\\DonsLaptop\\Dropbox\\SECExhibits\\data\\Raw_Exhibit_Files/1828182/000182818222000018/exhibit1010123121.htm   \n",
       "88  C:\\Users\\DonsLaptop\\Dropbox\\SECExhibits\\data\\Raw_Exhibit_Files/1856028/000162828022007706/filingversion-sdig10xkexxs.htm   \n",
       "\n",
       "                                                                                                                                                                                  buyer_seller  \\\n",
       "0                                                                                                                                                                                 Condor\\nCACI   \n",
       "1                                                                                                CACI INTERNATIONAL INC CACI, INC. – FEDERAL APPLIED TECHNOLOGY SOLUTIONS OF NORTHERN VA, INC.   \n",
       "2                                                                                      CACI International Inc, CACI, Inc. - Federal\\n\\nPremier Technology, Inc, Premier Technology Group, Inc.   \n",
       "3                                                                                                                                                 CACI INTERNATIONAL INC\\nCACI, INC. - FEDERAL   \n",
       "4                                                                                                                                                  CACI International Inc, C-CUBED Corporation   \n",
       "..                                                                                                                                                                                         ...   \n",
       "84  Cure TopCo, LLC\\nNew Remedy Corp.\\nNew Mountain Partners V (AIV-C), L.P.\\nCure Aggregator, LLC\\nTTCP Executive Fund - CA, LLC\\nHV Special Situations Fund L.P. (UAW)\\nTHV COH Blocker Corp   \n",
       "85                                                                                                                                                      Signify Health, Inc.\\nNew Remedy Corp.   \n",
       "86                                                                                                                                              Cure Aggregator, LLC, Cure TopCo, LLC, and [●]   \n",
       "87                                                                                                                                                      Signify Health, Inc.\\nNew Remedy Corp.   \n",
       "88                                                                                                                                            STRONGHOLD DIGITAL MINING BT, LLC\\nNYDIG ABL LLC   \n",
       "\n",
       "                                                                                                                    buy  \\\n",
       "0                                                                                                                         \n",
       "1                                                                                     CACI INTERNATIONAL INC CACI, INC.   \n",
       "2                                                                                    CACI International Inc, CACI, Inc.   \n",
       "3                                                                                    CACI INTERNATIONAL INC\\nCACI, INC.   \n",
       "4                                                                                                                         \n",
       "..                                                                                                                  ...   \n",
       "84  Cure TopCo, LLC\\nNew Remedy Corp.\\nNew Mountain Partners V (AIV-C), L.P.\\nCure Aggregator, LLC\\nTTCP Executive Fund   \n",
       "85                                                                                                                        \n",
       "86                                                                                                                        \n",
       "87                                                                                                                        \n",
       "88                                                                                                                        \n",
       "\n",
       "                                                                    sell  \n",
       "0                                                                         \n",
       "1              FEDERAL APPLIED TECHNOLOGY SOLUTIONS OF NORTHERN VA, INC.  \n",
       "2     Federal\\n\\nPremier Technology, Inc, Premier Technology Group, Inc.  \n",
       "3                                                                FEDERAL  \n",
       "4                                                                         \n",
       "..                                                                   ...  \n",
       "84  CA, LLC\\nHV Special Situations Fund L.P. (UAW)\\nTHV COH Blocker Corp  \n",
       "85                                                                        \n",
       "86                                                                        \n",
       "87                                                                        \n",
       "88                                                                        \n",
       "\n",
       "[89 rows x 4 columns]"
      ]
     },
     "execution_count": 104,
     "metadata": {},
     "output_type": "execute_result"
    }
   ],
   "source": [
    "delimiters = [r'\\n\\n', r'\\n', r' – ', r' - ']\n",
    "\n",
    "def col_split(row):\n",
    "    for delimiter in delimiters:\n",
    "        split_col = fr\"{row['buyer_seller']}\".split(delimiter)\n",
    "        if len(split_col) == 2:\n",
    "            return split_col\n",
    "    return ['', '']\n",
    "\n",
    "df = pd.DataFrame(file_sentence_dict.items(), columns=['document', 'buyer_seller'])\n",
    "df[['buy','sell']] =  df.apply(col_split, axis = 1,result_type='expand')\n",
    "\n",
    "df\n",
    "# ['buyer_seller'].str.split('\\t', expand=True)\n",
    "# df = df.drop('buyer_seller', axis=1)\n",
    "df"
   ]
  },
  {
   "cell_type": "code",
   "execution_count": 103,
   "metadata": {},
   "outputs": [
    {
     "data": {
      "text/plain": [
       "['Condor', 'CACI']"
      ]
     },
     "execution_count": 103,
     "metadata": {},
     "output_type": "execute_result"
    }
   ],
   "source": [
    "# re.split(delimiter_pattern,'CACI INTERNATIONAL INC CACI, INC. – FEDERAL APPLIED TECHNOLOGY SOLUTIONS OF NORTHERN VA, INC.')\n",
    "\n",
    "delimiters = [r'\\n\\n', r'\\n', r' – ', r' - ']\n",
    "\n",
    "def col_split(string):\n",
    "    for delimiter in delimiters:\n",
    "        split_col = string.split(delimiter)\n",
    "        if len(split_col) == 2:\n",
    "            return split_col\n",
    "    return ['', '']\n",
    "\n",
    "col_split(r'Condor\\nCACI') # should be ['Condor','','CACI']"
   ]
  },
  {
   "cell_type": "code",
   "execution_count": 105,
   "metadata": {},
   "outputs": [
    {
     "data": {
      "text/plain": [
       "'Condor\\nCACI'"
      ]
     },
     "execution_count": 105,
     "metadata": {},
     "output_type": "execute_result"
    }
   ],
   "source": [
    "df.loc[0,'buyer_seller']"
   ]
  },
  {
   "cell_type": "markdown",
   "metadata": {},
   "source": [
    "## Fermi estimate  of the project cost\n",
    "\n",
    "Price: 0.002 per 1k tokens **in reply**\n",
    "\n",
    "So\n",
    "\n",
    "Cost = # docs * # tokens in reply per doc * 0.002/1000\n",
    "\n",
    "The reply above was 10 tokens:"
   ]
  },
  {
   "cell_type": "code",
   "execution_count": 22,
   "metadata": {},
   "outputs": [],
   "source": [
    "# !pip install --upgrade tiktoken"
   ]
  },
  {
   "cell_type": "code",
   "execution_count": 23,
   "metadata": {},
   "outputs": [
    {
     "data": {
      "text/plain": [
       "10"
      ]
     },
     "execution_count": 23,
     "metadata": {},
     "output_type": "execute_result"
    }
   ],
   "source": [
    "# open AI's tokenizer\n",
    "\n",
    "import tiktoken\n",
    "encoding = tiktoken.encoding_for_model(\"gpt-3.5-turbo\")\n",
    "sent = 'Baxter Healthcare Corporation\\tCFC International, Inc.'\n",
    "len(encoding.encode(sent))\n"
   ]
  },
  {
   "cell_type": "markdown",
   "metadata": {},
   "source": [
    "We have 0.25 million docs. \n",
    "\n",
    "## THE ESTIMATE, IN DOLLARS"
   ]
  },
  {
   "cell_type": "code",
   "execution_count": 58,
   "metadata": {},
   "outputs": [
    {
     "data": {
      "text/plain": [
       "200.0"
      ]
     },
     "execution_count": 58,
     "metadata": {},
     "output_type": "execute_result"
    }
   ],
   "source": [
    "files = 250000\n",
    "toks_per = 400\n",
    "cost_per_tok = 0.002/1000\n",
    "\n",
    "files*toks_per*cost_per_tok"
   ]
  },
  {
   "cell_type": "markdown",
   "metadata": {},
   "source": [
    "I can't eve believe that."
   ]
  },
  {
   "cell_type": "markdown",
   "metadata": {},
   "source": [
    "## Speed and rate limits\n",
    "\n",
    "I sent 1850 characters, which OpenAI says is 376 tokens. "
   ]
  },
  {
   "cell_type": "code",
   "execution_count": 54,
   "metadata": {},
   "outputs": [
    {
     "data": {
      "text/plain": [
       "376"
      ]
     },
     "execution_count": 54,
     "metadata": {},
     "output_type": "execute_result"
    }
   ],
   "source": [
    "sent = '''<FILENAME>ex10.txt\n",
    "<DESCRIPTION>CFC INTERNATIONAL, INC.-BAXTER PURCHASE AGREEMENT\n",
    "<TEXT>\n",
    "Exhibit 10.9\n",
    "\n",
    "\n",
    "                               PURCHASE AGREEMENT\n",
    "\n",
    "         This Agreement, effective March 1, 2001 is between CFC International, a\n",
    "Delaware corporation, with offices at 500 State Street, Chicago Heights,\n",
    "Illinois 60411 (\"Seller\") and Baxter Healthcare Corporation, a Delaware\n",
    "corporation, with offices at One Baxter Parkway, Deerfield, Illinois 60015 on\n",
    "behalf or its self and its affiliates (entities controlling, controlled by, or\n",
    "under common control with Baxter)(\"Buyer\").\n",
    "\n",
    "                                 1.0 Background\n",
    "\n",
    "\n",
    "         1.1 Seller produces hot stamping foil which conforms and meets the\n",
    "Specification Requirements submitted, accepted and in Seller's possession for\n",
    "the Specification numbers listed attached in the Exhibit A., hereafter referred\n",
    "to as \"Products\". Product Specifications may be revised from time to time and\n",
    "new Specifications and numbers added by mutual agreement between parties. Buyer\n",
    "requires foil for use in printing flexible packaging.\n",
    "\n",
    "\n",
    "                                2.0 Distribution\n",
    "\n",
    "\n",
    "         2.1 Subject to the terms and conditions of this Agreement, Seller shall\n",
    "manufacture and sell Products to Buyer, and Buyer shall purchase Products for\n",
    "manufacture into goods for use or resale in any country in the world. Buyer\n",
    "agrees to purchase all their global foiling requirements from seller, or as\n",
    "stated in Section 13.2.\n",
    "\n",
    "\n",
    "                            3.0 Shipment of Products\n",
    "\n",
    "\n",
    "         3.1 Seller will ship Products, F.O.B. Seller's facility, freight\n",
    "collect, to locations specified by Buyer and via carriers specified by Buyer.\n",
    "\n",
    "         3.2 Seller agrees to maintain negotiated consignment inventory at\n",
    "Baxter's locations per specific plant consignment agreements.\n",
    "'''\n",
    "\n",
    "len(encoding.encode(sent))"
   ]
  },
  {
   "cell_type": "markdown",
   "metadata": {},
   "source": [
    "Input token rate limit is 60000 per minute:"
   ]
  },
  {
   "cell_type": "code",
   "execution_count": 37,
   "metadata": {},
   "outputs": [
    {
     "data": {
      "text/plain": [
       "150.0"
      ]
     },
     "execution_count": 37,
     "metadata": {},
     "output_type": "execute_result"
    }
   ],
   "source": [
    "# can do this many contracts per minute \n",
    "(\n",
    "    60000 # tokens limit per nute\n",
    "    /\n",
    "    400   # conservative guess tokens per contract \n",
    ")\n"
   ]
  },
  {
   "cell_type": "markdown",
   "metadata": {},
   "source": [
    "Only allowed to do 60 requests a second. But a single request can \"batch\" multiple prompts. \n",
    "\n",
    "So, 50 times a minute, send 3 contracts. sleep(1.2) between calls. "
   ]
  },
  {
   "cell_type": "code",
   "execution_count": 53,
   "metadata": {},
   "outputs": [
    {
     "data": {
      "text/plain": [
       "216000.0"
      ]
     },
     "execution_count": 53,
     "metadata": {},
     "output_type": "execute_result"
    }
   ],
   "source": [
    "# contracts per day\n",
    "(\n",
    "    # num contracts per minute\n",
    "    (\n",
    "        60000 # tokens per minute\n",
    "        /\n",
    "        400   # tokens per contract (if the lenght above is kept)\n",
    "    )\n",
    "    *\n",
    "    60*24 # minutes in a day\n",
    ") "
   ]
  },
  {
   "cell_type": "code",
   "execution_count": null,
   "metadata": {},
   "outputs": [],
   "source": []
  },
  {
   "cell_type": "code",
   "execution_count": null,
   "metadata": {},
   "outputs": [],
   "source": []
  },
  {
   "cell_type": "code",
   "execution_count": 57,
   "metadata": {},
   "outputs": [
    {
     "data": {
      "text/plain": [
       "<OpenAIObject chat.completion id=chatcmpl-6zsvWPEb5epV348uxX6Dau1rfE6G4 at 0x1afae2ca450> JSON: {\n",
       "  \"choices\": [\n",
       "    {\n",
       "      \"finish_reason\": \"stop\",\n",
       "      \"index\": 0,\n",
       "      \"message\": {\n",
       "        \"content\": \"Baxter Healthcare Corporation\\tCFC International, Inc.\",\n",
       "        \"role\": \"assistant\"\n",
       "      }\n",
       "    }\n",
       "  ],\n",
       "  \"created\": 1680207166,\n",
       "  \"id\": \"chatcmpl-6zsvWPEb5epV348uxX6Dau1rfE6G4\",\n",
       "  \"model\": \"gpt-3.5-turbo-0301\",\n",
       "  \"object\": \"chat.completion\",\n",
       "  \"usage\": {\n",
       "    \"completion_tokens\": 10,\n",
       "    \"prompt_tokens\": 407,\n",
       "    \"total_tokens\": 417\n",
       "  }\n",
       "}"
      ]
     },
     "execution_count": 57,
     "metadata": {},
     "output_type": "execute_result"
    }
   ],
   "source": [
    "question = \"Output a tab separated list containing two items: the name of the buyer, and the name of the seller.\"\n",
    "\n",
    "openai.ChatCompletion.create(\n",
    "  model=\"gpt-3.5-turbo\",\n",
    "  messages=[\n",
    "        {\"role\": \"user\", \"content\": f\"{sent}\\n---\\n{question}\"},\n",
    "    ]\n",
    ")"
   ]
  },
  {
   "cell_type": "code",
   "execution_count": null,
   "metadata": {},
   "outputs": [],
   "source": []
  }
 ],
 "metadata": {
  "colab": {
   "provenance": []
  },
  "kernelspec": {
   "display_name": "Python 3 (ipykernel)",
   "language": "python",
   "name": "python3"
  },
  "language_info": {
   "codemirror_mode": {
    "name": "ipython",
    "version": 3
   },
   "file_extension": ".py",
   "mimetype": "text/x-python",
   "name": "python",
   "nbconvert_exporter": "python",
   "pygments_lexer": "ipython3",
   "version": "3.8.16"
  }
 },
 "nbformat": 4,
 "nbformat_minor": 4
}
