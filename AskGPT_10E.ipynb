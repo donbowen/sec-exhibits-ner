{
 "cells": [
  {
   "cell_type": "markdown",
   "metadata": {
    "id": "XkVlhQlZu4kL"
   },
   "source": [
    "## API key\n",
    "\n",
    "### Get one\n",
    "\n",
    "To run this code, you need an API key from Open AI. This involves giving them your credit card and setting up spending limits. \n",
    "\n",
    "### Using it\n",
    "\n",
    "I run this file locally via Jupyterlab, so it's in a folder with `gpt_api.txt` which contains my API key. \n",
    "\n",
    "To run this file in Google Colab, you _could_ directly type your API key into the notebook below, **but this is a bad idea.** \n",
    "\n",
    "Instead, one common way is to store the API key in a file on your Google Drive and then access it from the Colab notebook. Here's how you can do it:\n",
    "\n",
    "1.    Create a new text file on your Google Drive and store your API key in it. Name the file something like `gpt_api.txt`.\n",
    "1.    Mount your Google Drive to the Google Colab notebook by running the following code block.\n",
    "    ```python\n",
    "    import openai\n",
    "    from google.colab import drive\n",
    "    drive.mount('/content/drive')\n",
    "    with open('/content/drive/gpt_api.txt', 'r') as f:\n",
    "        openai.api_key = f.read().strip()\n",
    "    ```\n",
    "1.     This will prompt you to click on a link to authorize the connection. Follow the instructions, and copy the authorization code into the input box that appears in the Colab notebook. You can now continue on. "
   ]
  },
  {
   "cell_type": "code",
   "execution_count": 1,
   "metadata": {
    "id": "E-YUQkM4lqZS"
   },
   "outputs": [],
   "source": [
    "# !pip install openai "
   ]
  },
  {
   "cell_type": "code",
   "execution_count": 4,
   "metadata": {
    "colab": {
     "base_uri": "https://localhost:8080/"
    },
    "id": "FwGSI_l-lQI0",
    "outputId": "48bed0b3-2502-49c2-d1a1-76598c0d0a40"
   },
   "outputs": [],
   "source": [
    "import openai\n",
    "\n",
    "# don't type the key in this file! open it from file that is in gitignore, github secrets, or in your google drive\n",
    "\n",
    "with open('gpt_api.txt', 'r') as f:\n",
    "    openai.api_key = f.read().strip()"
   ]
  },
  {
   "cell_type": "markdown",
   "metadata": {
    "id": "gNnWIc3umGnF"
   },
   "source": [
    "## Define key functions to do the lift"
   ]
  },
  {
   "cell_type": "code",
   "execution_count": 13,
   "metadata": {
    "id": "8seK4DtvuqrX"
   },
   "outputs": [],
   "source": [
    "# gpt 4.0 wrote this mostly\n",
    "\n",
    "import os\n",
    "import glob\n",
    "\n",
    "import numpy as np\n",
    "import pandas as pd\n",
    "from IPython.display import (  # used during dev - display(Markdown(markdown_table)) prints nice\n",
    "    Markdown,\n",
    "    display,\n",
    ")\n",
    "from tqdm import tqdm\n",
    "from bs4 import BeautifulSoup\n",
    "\n",
    "# Set Pandas display options to show full string\n",
    "pd.set_option(\"display.max_colwidth\", None)\n",
    "\n",
    "def ask_openai(question, data):\n",
    "    prompt = f\"{data}\\n---\\n{question}\"\n",
    "    response = openai.Completion.create(\n",
    "        engine=\"text-davinci-002\",\n",
    "        prompt=prompt,\n",
    "        max_tokens=70,\n",
    "        n=1,\n",
    "        stop=None,\n",
    "        temperature=0.5,\n",
    "    )\n",
    "    return response.choices[0].text.strip()\n",
    "\n",
    "def parse_file(filename):\n",
    "\n",
    "    # Define your question related to the loan application\n",
    "    question = \"Output a tab separated list containing two items: the name of the buyer, and the name of the seller.\"\n",
    "\n",
    "    # remove the html\n",
    "    with open(filename, \"r\") as fp:\n",
    "        raw = BeautifulSoup(fp.read(), 'html.parser').get_text()\n",
    "\n",
    "    return ask_openai(question, raw[:1850])"
   ]
  },
  {
   "cell_type": "code",
   "execution_count": 14,
   "metadata": {
    "id": "8seK4DtvuqrX"
   },
   "outputs": [
    {
     "name": "stderr",
     "output_type": "stream",
     "text": [
      "100%|████████████████████████████████████████████████████████████████████████████████████| 2/2 [00:01<00:00,  1.58it/s]\n"
     ]
    }
   ],
   "source": [
    "file_sentence_dict = {}\n",
    "files = glob.glob(\"inputs/*\") #get all the files in the inputs folder\n",
    "\n",
    "for file in tqdm(files,total=len(files)):\n",
    "    file_sentence_dict.update({file: parse_file(file)}) #update the dictionary "
   ]
  },
  {
   "cell_type": "code",
   "execution_count": 15,
   "metadata": {},
   "outputs": [
    {
     "data": {
      "text/plain": [
       "{'inputs\\\\ex10-11.txt': 'Baxter Healthcare Corporation\\tCFC International, Inc.',\n",
       " 'inputs\\\\ex10.txt': 'Baxter Healthcare Corporation\\tCFC International'}"
      ]
     },
     "execution_count": 15,
     "metadata": {},
     "output_type": "execute_result"
    }
   ],
   "source": [
    "file_sentence_dict"
   ]
  },
  {
   "cell_type": "markdown",
   "metadata": {},
   "source": [
    "## Examine output"
   ]
  },
  {
   "cell_type": "code",
   "execution_count": 18,
   "metadata": {},
   "outputs": [
    {
     "data": {
      "text/html": [
       "<div>\n",
       "<style scoped>\n",
       "    .dataframe tbody tr th:only-of-type {\n",
       "        vertical-align: middle;\n",
       "    }\n",
       "\n",
       "    .dataframe tbody tr th {\n",
       "        vertical-align: top;\n",
       "    }\n",
       "\n",
       "    .dataframe thead th {\n",
       "        text-align: right;\n",
       "    }\n",
       "</style>\n",
       "<table border=\"1\" class=\"dataframe\">\n",
       "  <thead>\n",
       "    <tr style=\"text-align: right;\">\n",
       "      <th></th>\n",
       "      <th>document</th>\n",
       "      <th>buyer</th>\n",
       "      <th>seller</th>\n",
       "    </tr>\n",
       "  </thead>\n",
       "  <tbody>\n",
       "    <tr>\n",
       "      <th>0</th>\n",
       "      <td>inputs\\ex10-11.txt</td>\n",
       "      <td>Baxter Healthcare Corporation</td>\n",
       "      <td>CFC International, Inc.</td>\n",
       "    </tr>\n",
       "    <tr>\n",
       "      <th>1</th>\n",
       "      <td>inputs\\ex10.txt</td>\n",
       "      <td>Baxter Healthcare Corporation</td>\n",
       "      <td>CFC International</td>\n",
       "    </tr>\n",
       "  </tbody>\n",
       "</table>\n",
       "</div>"
      ],
      "text/plain": [
       "             document                          buyer                   seller\n",
       "0  inputs\\ex10-11.txt  Baxter Healthcare Corporation  CFC International, Inc.\n",
       "1     inputs\\ex10.txt  Baxter Healthcare Corporation        CFC International"
      ]
     },
     "execution_count": 18,
     "metadata": {},
     "output_type": "execute_result"
    }
   ],
   "source": [
    "df = pd.DataFrame(file_sentence_dict.items(), columns=['document', 'buyer_seller'])\n",
    "df[['buyer', 'seller']] = df['buyer_seller'].str.split('\\t', expand=True)\n",
    "df = df.drop('buyer_seller', axis=1)\n",
    "df\n"
   ]
  },
  {
   "cell_type": "code",
   "execution_count": null,
   "metadata": {},
   "outputs": [],
   "source": []
  }
 ],
 "metadata": {
  "colab": {
   "provenance": []
  },
  "kernelspec": {
   "display_name": "Python 3 (ipykernel)",
   "language": "python",
   "name": "python3"
  },
  "language_info": {
   "codemirror_mode": {
    "name": "ipython",
    "version": 3
   },
   "file_extension": ".py",
   "mimetype": "text/x-python",
   "name": "python",
   "nbconvert_exporter": "python",
   "pygments_lexer": "ipython3",
   "version": "3.8.16"
  }
 },
 "nbformat": 4,
 "nbformat_minor": 4
}
