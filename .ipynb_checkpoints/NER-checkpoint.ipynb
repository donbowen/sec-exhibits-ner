{
 "cells": [
  {
   "cell_type": "code",
   "execution_count": null,
   "id": "21f77b6e-7f57-4d2f-be56-bd389268ffcb",
   "metadata": {},
   "outputs": [],
   "source": [
    "! pip install spacy\n",
    "! pip install nltk\n",
    "! python -m spacy download en_core_web_sm\n",
    " \n",
    "! pip install svgling"
   ]
  },
  {
   "cell_type": "code",
   "execution_count": 7,
   "id": "65a1624e-3736-4e56-8f23-7918ead42856",
   "metadata": {},
   "outputs": [],
   "source": [
    "import nltk"
   ]
  },
  {
   "cell_type": "code",
   "execution_count": null,
   "id": "62e25ca9-e66f-4e00-b032-cfa71de29d96",
   "metadata": {},
   "outputs": [],
   "source": [
    "import nltk\n",
    "nltk.download('words')\n",
    "nltk.download('punkt')\n",
    "nltk.download('maxent_ne_chunker')\n",
    "nltk.download('averaged_perceptron_tagger')\n",
    "nltk.download('state_union')\n",
    "from nltk.corpus import state_union\n",
    "from nltk.tokenize import PunktSentenceTokenizer"
   ]
  },
  {
   "cell_type": "code",
   "execution_count": 41,
   "id": "5dd20345-309a-4c8e-b41c-b4de20bd4830",
   "metadata": {},
   "outputs": [
    {
     "data": {
      "text/plain": [
       "'Apple acquired Zoom in China on Wednesday 6th, May 2020. This news has made Apple and Google stock jump by 5% on Dow Jones in the United States of America'"
      ]
     },
     "execution_count": 41,
     "metadata": {},
     "output_type": "execute_result"
    }
   ],
   "source": [
    "tokenized = ['Python is an interpreted, high-level and general-purpose programming language', \n",
    "        'Apple acquired Zoom in China on Wednesday 6th, May 2020. This news has made Apple and Google stock jump by 5% on Dow Jones in the United States of America',     \n",
    "        'Pythons design philosophy emphasizes code readability with',\n",
    "        'its notable use of significant indentation.',\n",
    "        'Its language constructs and object-oriented approach aim to',\n",
    "        'help programmers write clear and',\n",
    "        'logical code for small and large-scale projects']\n",
    "\n",
    "\n",
    "tokenized[1]"
   ]
  },
  {
   "cell_type": "code",
   "execution_count": 63,
   "id": "8d82e5c4-665e-494d-ab7c-c41b0e06bf99",
   "metadata": {},
   "outputs": [
    {
     "name": "stdout",
     "output_type": "stream",
     "text": [
      "(PERSON Apple/NNP)\n",
      "('acquired', 'VBD')\n",
      "(PERSON Zoom/NNP)\n",
      "('in', 'IN')\n",
      "(GPE China/NNP)\n",
      "('on', 'IN')\n",
      "('Wednesday', 'NNP')\n",
      "('6th', 'CD')\n",
      "(',', ',')\n",
      "('May', 'NNP')\n",
      "('2020', 'CD')\n",
      "('.', '.')\n",
      "('This', 'DT')\n",
      "('news', 'NN')\n",
      "('has', 'VBZ')\n",
      "('made', 'VBN')\n",
      "(PERSON Apple/NNP)\n",
      "('and', 'CC')\n",
      "(ORGANIZATION Google/NNP)\n",
      "('stock', 'NN')\n",
      "('jump', 'NN')\n",
      "('by', 'IN')\n",
      "('5', 'CD')\n",
      "('%', 'NN')\n",
      "('on', 'IN')\n",
      "(PERSON Dow/NNP Jones/NNP)\n",
      "('in', 'IN')\n",
      "('the', 'DT')\n",
      "(GPE United/NNP States/NNPS)\n",
      "('of', 'IN')\n",
      "(GPE America/NNP)\n"
     ]
    }
   ],
   "source": [
    "words = nltk.word_tokenize(tokenized[1]) #break down the sentence into words\n",
    "\n",
    "tagged = nltk.pos_tag(words) #tag the words with Part of Speech \n",
    "\n",
    "chunks = nltk.ne_chunk(tagged, binary=False) #binary = False named entities are classified (i.e PERSON, ORGANIZATION)\n",
    "\n",
    "for chunk in chunks:\n",
    "    print(chunk)"
   ]
  },
  {
   "cell_type": "code",
   "execution_count": 67,
   "id": "55465deb-79b4-4766-a1d4-10d3b5256f3a",
   "metadata": {},
   "outputs": [
    {
     "data": {
      "text/plain": [
       "['Apple',\n",
       " 'Zoom',\n",
       " 'China',\n",
       " 'Apple',\n",
       " 'Google',\n",
       " 'Dow Jones',\n",
       " 'United States',\n",
       " 'America']"
      ]
     },
     "execution_count": 67,
     "metadata": {},
     "output_type": "execute_result"
    }
   ],
   "source": [
    "words = nltk.word_tokenize(tokenized[1]) #break down the sentence into words\n",
    "\n",
    "tagged = nltk.pos_tag(words) #tag the words with Part of Speech \n",
    "\n",
    "chunks = nltk.ne_chunk(tagged, binary=False) #binary = False named entities are classified (i.e PERSON, ORGANIZATION)\n",
    "\n",
    "entities = []\n",
    "for chunk in chunks:\n",
    "    if hasattr(chunk, 'label'): #hasattr(obj, key) -- checking if chunks have a label or not \n",
    "          entities.append(' '.join(c[0] for c in chunk)) #append entities to array\n",
    "        \n",
    "        \n",
    "\n",
    "entities"
   ]
  }
 ],
 "metadata": {
  "kernelspec": {
   "display_name": "Python 3 (ipykernel)",
   "language": "python",
   "name": "python3"
  },
  "language_info": {
   "codemirror_mode": {
    "name": "ipython",
    "version": 3
   },
   "file_extension": ".py",
   "mimetype": "text/x-python",
   "name": "python",
   "nbconvert_exporter": "python",
   "pygments_lexer": "ipython3",
   "version": "3.9.13"
  }
 },
 "nbformat": 4,
 "nbformat_minor": 5
}
