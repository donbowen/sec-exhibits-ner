{
 "cells": [
  {
   "cell_type": "markdown",
   "id": "a3117a5e-7c66-4b0a-8c40-e4ed7cc69b92",
   "metadata": {},
   "source": [
    "## I. Setup, Installations, and Imports"
   ]
  },
  {
   "cell_type": "markdown",
   "id": "a87ad790-8001-4fe0-b389-3b8c1883ed24",
   "metadata": {},
   "source": [
    "#### (a) Installations"
   ]
  },
  {
   "cell_type": "code",
   "execution_count": null,
   "id": "418cc174-40fc-424f-8000-5530c76257ca",
   "metadata": {},
   "outputs": [],
   "source": [
    "! pip install spacy\n",
    "! pip install nltk\n",
    "! python -m spacy download en_core_web_sm\n",
    "! pip install svgling"
   ]
  },
  {
   "cell_type": "markdown",
   "id": "cf1c90a9-2148-41a3-84f4-0884b30b2b08",
   "metadata": {},
   "source": [
    "#### (b) Imports"
   ]
  },
  {
   "cell_type": "code",
   "execution_count": null,
   "id": "f44d592f-aa51-45f5-a333-6a1b2efbde84",
   "metadata": {},
   "outputs": [],
   "source": [
    "import pandas as pd\n",
    "import numpy as np\n",
    "import nltk\n",
    "from nltk.corpus import state_union\n",
    "from nltk.tokenize import PunktSentenceTokenizer"
   ]
  },
  {
   "cell_type": "markdown",
   "id": "4348a921-505c-40c4-b626-078e9ee0aed4",
   "metadata": {},
   "source": [
    "#### (c) Downloads"
   ]
  },
  {
   "cell_type": "code",
   "execution_count": null,
   "id": "232a23d1-141d-483a-b53e-0836d847de4b",
   "metadata": {},
   "outputs": [],
   "source": [
    "nltk.download('words')\n",
    "nltk.download('punkt')\n",
    "nltk.download('maxent_ne_chunker')\n",
    "nltk.download('averaged_perceptron_tagger')\n",
    "nltk.download('state_union')"
   ]
  },
  {
   "cell_type": "markdown",
   "id": "16b811b7-e9ee-4459-baa1-2ed4f28d89bc",
   "metadata": {},
   "source": [
    "## II. Named Entity Recognizer Function\n",
    "Function to find the named entity recognizer of a sentence "
   ]
  },
  {
   "cell_type": "code",
   "execution_count": null,
   "id": "b6c618be-0b84-4eb9-bd6d-3eae1f163d3a",
   "metadata": {},
   "outputs": [],
   "source": [
    "def ner(sentence): \n",
    "    \n",
    "    words = nltk.word_tokenize(sentence) #break down the sentence into words\n",
    "    tagged = nltk.pos_tag(words) #tag the words with Part of Speech \n",
    "    chunks = nltk.ne_chunk(tagged, binary=False) #binary = False named entities are classified (i.e PERSON, ORGANIZATION)\n",
    "    \n",
    "    entities = []\n",
    "    \n",
    "    for chunk in chunks:\n",
    "        if hasattr(chunk, 'label'): #hasattr(obj, key) -- checking if chunks have a label or not \n",
    "              entities.append(' '.join(c[0] for c in chunk)) #append entities to array\n",
    "    \n",
    "    return entities"
   ]
  },
  {
   "cell_type": "markdown",
   "id": "8b2116c7-6478-4526-9c3c-a7670e39b94a",
   "metadata": {},
   "source": [
    "## III. Filename Traversal"
   ]
  },
  {
   "cell_type": "code",
   "execution_count": 3,
   "id": "d698b6e2-7ecc-4d92-9ce2-853118d5556a",
   "metadata": {},
   "outputs": [],
   "source": [
    "filename = 'inputs/ex10.txt'"
   ]
  },
  {
   "cell_type": "code",
   "execution_count": null,
   "id": "9c27d55c-ea20-4759-a0ba-2f0430134deb",
   "metadata": {},
   "outputs": [],
   "source": [
    "fp = open(filename, \"r\")\n",
    "raw_text_file = fp.read() #read in the raw text file"
   ]
  },
  {
   "cell_type": "code",
   "execution_count": 9,
   "id": "abd0ee93-a554-42ee-921e-d6bfaa2b2023",
   "metadata": {},
   "outputs": [],
   "source": [
    "my_dic = {}"
   ]
  },
  {
   "cell_type": "code",
   "execution_count": 7,
   "id": "30312893-2017-4a46-be10-64962976112a",
   "metadata": {},
   "outputs": [
    {
     "name": "stdout",
     "output_type": "stream",
     "text": [
      "0\n",
      "1\n",
      "2\n"
     ]
    },
    {
     "data": {
      "text/plain": [
       "{'inputs/ex10.txt': 2, 'result_0': 0, 'result_1': 1, 'result_2': 2}"
      ]
     },
     "execution_count": 7,
     "metadata": {},
     "output_type": "execute_result"
    }
   ],
   "source": [
    "myarray = [1,2,3,4]\n",
    "\n",
    "for i in range(3):\n",
    "    print(i)\n",
    "    my_dic['result_' + str(i)] = i\n",
    "\n",
    "my_dic"
   ]
  },
  {
   "cell_type": "code",
   "execution_count": null,
   "id": "339f42e7-65f3-427b-ae91-28ea3a4e52e6",
   "metadata": {},
   "outputs": [],
   "source": [
    "raw_sentences = ['Python is an interpreted, high-level and general-purpose programming language', \n",
    "        'Apple acquired Zoom in China on Wednesday 6th, May 2020. This news has made Apple and Google stock jump by 5% on Dow Jones in the United States of America',     \n",
    "        'Pythons design philosophy emphasizes code readability with on Feb 13 during the Revolutionary War']\n",
    "\n",
    "\n",
    "for sentence in raw_sentences:\n",
    "      \n",
    "    #Get the entities of the sentence using the NER function above \n",
    "    entities = ner(sentence) \n",
    "    \n",
    "    #Combine the sentence and entities into one array (get the final value for the dict)\n",
    "    combined = [sentence, entities] \n",
    "    print(combined)\n",
    "    \n",
    "    #my_dic.update({filename: combined})\n",
    "    my_dic[filename] = \"test\"\n",
    "\n",
    "    \n",
    "    #combined.clear() #reset combined array to allow for next sentence to parse\n",
    "    \n",
    "    \n"
   ]
  },
  {
   "cell_type": "code",
   "execution_count": null,
   "id": "9aa02849-68e0-4223-92e4-0601de7b35a5",
   "metadata": {},
   "outputs": [],
   "source": [
    "my_dic"
   ]
  },
  {
   "cell_type": "code",
   "execution_count": null,
   "id": "74e1d9dd-a577-4360-ab4c-e78a39a7d8dd",
   "metadata": {},
   "outputs": [],
   "source": [
    "raw_sentences = nltk.sent_tokenize(raw_text_file) #break text file into indiv sentences\n",
    "\n",
    "#entities = []\n",
    "#combined = []\n",
    "\n",
    "for sentence in raw_sentences:\n",
    "    \n",
    "    print(\"1.________SENTENCE__________\")\n",
    "    print(sentence)\n",
    "    \n",
    "    \n",
    "    print(\"2.________ENTITIES__________\")\n",
    "    entities = ner(sentence)\n",
    "    print(entities)\n",
    "    \n",
    "    print(\"3.________LIST -- SENTENCE + ENTITIES__________\")\n",
    "    \n",
    "    combined = [sentence, entities] #combine the sentence and entities into one array (get the final value for the dict)\n",
    "    print(combined)\n",
    "    combined.clear() #reset combined array to allow for next sentence to parse \n",
    "    \n",
    "    print(\"\")\n",
    "    print(\"\")\n",
    "    "
   ]
  }
 ],
 "metadata": {
  "kernelspec": {
   "display_name": "Python 3 (ipykernel)",
   "language": "python",
   "name": "python3"
  },
  "language_info": {
   "codemirror_mode": {
    "name": "ipython",
    "version": 3
   },
   "file_extension": ".py",
   "mimetype": "text/x-python",
   "name": "python",
   "nbconvert_exporter": "python",
   "pygments_lexer": "ipython3",
   "version": "3.9.13"
  }
 },
 "nbformat": 4,
 "nbformat_minor": 5
}
