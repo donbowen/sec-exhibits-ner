{
 "cells": [
  {
   "cell_type": "code",
   "execution_count": 1,
   "id": "f44d592f-aa51-45f5-a333-6a1b2efbde84",
   "metadata": {},
   "outputs": [],
   "source": [
    "import pandas as pd\n",
    "import numpy as np\n",
    "import nltk\n",
    "#nltk.download('punkt')\n",
    "\n",
    "tokenizer = nltk.data.load('tokenizers/punkt/english.pickle')"
   ]
  },
  {
   "cell_type": "code",
   "execution_count": 2,
   "id": "9c27d55c-ea20-4759-a0ba-2f0430134deb",
   "metadata": {},
   "outputs": [],
   "source": [
    "filename = 'inputs/ex10.txt'\n",
    "\n",
    "fp = open(filename, \"r\")\n",
    "text_file = fp.read()"
   ]
  },
  {
   "cell_type": "code",
   "execution_count": 3,
   "id": "74e1d9dd-a577-4360-ab4c-e78a39a7d8dd",
   "metadata": {},
   "outputs": [
    {
     "data": {
      "text/plain": [
       "['<DOCUMENT>\\n<TYPE>EX-10\\n<SEQUENCE>4\\n<FILENAME>ex10.txt\\n<DESCRIPTION>CFC INTERNATIONAL, INC.-BAXTER PURCHASE AGREEMENT\\n<TEXT>\\nExhibit 10.9\\n\\n\\n                               PURCHASE AGREEMENT\\n\\n         This Agreement, effective March 1, 2001 is between CFC International, a\\nDelaware corporation, with offices at 500 State Street, Chicago Heights,\\nIllinois 60411 (\"Seller\") and Baxter Healthcare Corporation, a Delaware\\ncorporation, with offices at One Baxter Parkway, Deerfield, Illinois 60015 on\\nbehalf or its self and its affiliates (entities controlling, controlled by, or\\nunder common control with Baxter)(\"Buyer\").',\n",
       " '1.0 Background\\n\\n\\n         1.1 Seller produces hot stamping foil which conforms and meets the\\nSpecification Requirements submitted, accepted and in Seller\\'s possession for\\nthe Specification numbers listed attached in the Exhibit A., hereafter referred\\nto as \"Products\".',\n",
       " 'Product Specifications may be revised from time to time and\\nnew Specifications and numbers added by mutual agreement between parties.',\n",
       " 'Buyer\\nrequires foil for use in printing flexible packaging.',\n",
       " '2.0 Distribution\\n\\n\\n         2.1 Subject to the terms and conditions of this Agreement, Seller shall\\nmanufacture and sell Products to Buyer, and Buyer shall purchase Products for\\nmanufacture into goods for use or resale in any country in the world.',\n",
       " 'Buyer\\nagrees to purchase all their global foiling requirements from seller, or as\\nstated in Section 13.2.',\n",
       " '3.0 Shipment of Products\\n\\n\\n         3.1 Seller will ship Products, F.O.B.',\n",
       " \"Seller's facility, freight\\ncollect, to locations specified by Buyer and via carriers specified by Buyer.\",\n",
       " \"3.2 Seller agrees to maintain negotiated consignment inventory at\\nBaxter's locations per specific plant consignment agreements.\",\n",
       " '4.0 Prices\\n\\n\\n         4.1 Seller will sell Product to Buyer and Buyer agrees to buy the\\nProduct from Seller.',\n",
       " 'Prices shall be firm during the first year of this\\nAgreement (March1, 2001 through February 28th, 2002) as per the attached Exhibit\\nA.',\n",
       " 'However, after the first year: Buyer\\'s pricing will be adjusted by one half\\nof the raw material price change if greater than 5% adjusted for the \"Foil\\nComposition Percentage\" consisting of the following components:\\n\\n\\n                       Foil Composition     US 2001 Raw       Germany 2001\\nComponents                Percentage        Material USD    Raw Material Euro\\n----------                ----------        ------------    -----------------\\nCarrier Film                  40%         $1.63 per pound     $ 1.79 per pd\\nSolvent                       10%         $ .41 per pound     $ .45 per pd\\nPigment/Plasticizer/Ink       15%        (To be negotiated   (To be negotiated\\nEnergy                        10%                if                  if\\nLabor/Overhead                25%             excessive)          excessive)\\n\\n\\nAny price changes will require a 30-day prior written notice, including written\\njustification for the change.',\n",
       " 'Both CFC International and Baxter Healthcare will\\ntrack price changes in the polypropylene and polyester industry and use these\\nchanges as a guide for any Product price increases or decreases.',\n",
       " '<PAGE>\\n\\nFormula Cost Increase/Decrease:\\n\\nPercentage Increase = Percentage of Increase Materials 2001 Base Period x one\\nhalf (.5) the Material (above 5%) - cost increase x percentage breakdown of\\ncosts.',\n",
       " 'New Unit Cost = Percentage Increase plus 100% x unit cost *Note: Same formula to\\nbe applied for cost decreases on materials.',\n",
       " 'Example:\\n\\nCarrier film increases 30% (30% - 5% = 25%)\\nPercentage Increase = 25% x .5 x .40 = 5%\\nNew Unit Price = 105% x .38 (Unit Cost) = $.399\\n\\n\\n         4.2 Seller and Buyer will work to reduce non-value added costs\\nthroughout the duration of our contract.',\n",
       " 'Cost reduction efforts will include\\ntwice yearly meetings to review potential cost elimination ideas, implement\\nstrategies and identify future projects.',\n",
       " 'Our goal will be to reduce our total\\ncost by 5% per year which can be measured in, quantifiable dollars.',\n",
       " '4.3 CFC agrees to reduce contract pricing 2.5% per year for the\\nsecond year of this Agreement and an additional 2.5% during the third year of\\nthis Agreement effective March1, 2002 and 2003 with orders shipped on or after\\nthe anniversary date.',\n",
       " 'This price reduction applies to all locations except\\nMexico, and Latin America (Mexico, Brazil, and Colombia).',\n",
       " '5.0 Payment\\n\\n         5.1 The terms of payment for the Product purchased by Buyer under this\\nAgreement shall be net 30 days from invoice date.',\n",
       " \"6.0 Purchases and Delivery\\n\\n\\n         6.1 During the terms of this agreement, Seller shall sell and Buyer\\nshall purchase, on an annualized basis, Buyer's requirements for Products\\n(Domestic and International locations).\",\n",
       " '6.2 Any delay in the performance of any of the duties or obligations of\\neither party shall not be considered a breach of this Agreement and the time\\nrequired for performance shall be extended for a period equal to the period of\\nsuch delay, provided that such delay is caused by the acts of God, acts of the\\npublic enemy, insurrections, riots, labor disputes, including strikes, lockouts,\\nor boycotts, fires, explosions, floods, droughts, or other unforeseeable causes\\nbeyond the control and without the fault or negligence of the party affected.',\n",
       " 'The party so affected shall give prompt written notice to the other of such\\ncause as rapidly as possible, and shall promptly notify the other when such\\ncause has terminated.',\n",
       " '6.3 If Seller is unable to deliver for any such reason, Buyer may take\\nall steps reasonably necessary to assure itself of sufficient supply of hot\\nstamping foil, including committing to purchase more than necessary for the\\nexpected period of delay, if necessary, to obtain hot stamp foil at a reasonable\\nprice and when and where needed or obtain from another supplier if unavailable\\nthrough seller.',\n",
       " '<PAGE>\\n\\n\\n\\n\\n                               7.0 Quality Control\\n\\n\\n         7.1 Seller warrants that the Products will be manufactured by Seller\\nand shall meet the written Specification Requirements as described in the\\nSpecification Sheets and listed by Specification Number in Exhibit A.',\n",
       " 'Seller\\nwarrants the Products will meet any changes in the Specifications that the\\nparties expressly agree to prior to such changes.',\n",
       " \"7.2 All Products shall be subjected to a quality control inspection by\\nSeller in accordance with Seller's current quality control standards and system.\",\n",
       " \"Seller's quality control standards and systems have been reviewed by Buyer prior\\nto the date of this Agreement.\",\n",
       " \"7.3 Seller shall permit Buyer to review periodically its quality\\ncontrol procedures and records, and with a Seller representative present, to\\nvisit Seller's facilities at reasonable times, in order to assure satisfaction\\nof the requirements of this Paragraph 7.0.\",\n",
       " '7.4 Buyer, at its discretion, may after delivery to it of Products,\\ninspect and/or audit the products for integrity and adherence to the\\nSpecifications.',\n",
       " \"If any Product fails to conform to the Specifications, Buyer may\\nreturn the Product to Seller for credit or replacement, with all freight and\\nout-of-pocket handling at Seller's expense.\",\n",
       " '8.0 Guarantee\\n\\n         8.1 All Products sold to Buyer under this Agreement are hereby\\nguaranteed as set forth in Exhibit A (price and Specification Sheets in your\\npossession.)',\n",
       " '9.0 Warranty and Indemnification\\n\\n         9.1 Seller warrants that Products are in compliance with the\\nSpecifications, and that the manufacture and sale of the Products do not and\\nwill not infringe any patent.',\n",
       " 'To the extent permitted by law, Seller\\nspecifically disclaims any other express or implied warranties.',\n",
       " 'Seller does not\\nmake any other warranties or representations except as specifically set forth in\\nthis Agreement and in the labeling of the Products.',\n",
       " 'In no event shall Seller be\\nliable for indirect, incidental or consequential damages.',\n",
       " '9.2 Seller will defend, indemnify and hold Buyer harmless with respect\\nto any liability of Buyer for infringement of any patent arising out of the\\npurchase or use of Products supplied to Buyer under this Agreement.',\n",
       " 'Buyer shall\\npromptly communicate to Seller any claim of infringement it receives.',\n",
       " 'Buyer will\\ncooperate fully with Seller in defending or otherwise resolving any such charge\\nof infringement.',\n",
       " 'Seller will have full control of the defense of any litigation\\nbrought against Buyer for alleged infringement by Products supplied under this\\nagreement.',\n",
       " 'Buyer, at its expense, shall be entitled to be represented by its own\\ncounsel in any litigation which is controlled by Seller.',\n",
       " 'Seller agrees to bear\\nall costs and expenses of litigation, including its own attorney fees in\\nconnection with any charge of infringement by the Products supplied under this\\nAgreement, and Seller shall reimburse Buyer for any disbursement made by Buyer\\nin satisfaction of any final judgment issued in any such litigation.',\n",
       " '10.0 Term of Agreement\\n\\n         10.1 This Agreement shall commence on March 1, 2001 and shall continue\\nfor a period of three (3) years through February 28, 2004, (\"Term\"), unless\\nterminated in accordance with Section 11.',\n",
       " '<PAGE>\\n\\n\\n\\n                                11.0 Termination\\n\\n         11.1 Either party may terminate this Agreement for any material breach\\nof this Agreement by the other party, by giving thirty (30) days prior written\\nnotice to the other party that such termination shall take effect if such breach\\nis not cured as of the expiration of said thirty (30) day period.',\n",
       " '11.2 Either party may terminate this Agreement effective immediately\\nupon the giving of written notice, if the other party shall file a petition in\\nbankruptcy, or shall be adjudicated a bankrupt, or shall take advantage of the\\ninsolvency laws of any state, or shall make an assignment for the benefit of\\ncreditors, or shall be voluntarily or involuntarily dissolved, or shall have a\\nreceiver, trustee or other court officer appointed for its property.',\n",
       " 'Seller\\nshall deliver and Buyer shall pay for all Products ordered by Buyer under\\npurchase orders issued by Buyer prior to the date of such written notice of\\ntermination and not canceled by Buyer.',\n",
       " 'Further, such termination shall not\\nrelieve either party of any rights accrued and obligations incurred, but not yet\\nsatisfied, prior to termination of this Agreement.',\n",
       " '12.0 Effect of Termination\\n\\n         12.1 The termination of this Agreement, if such termination is for any\\nreason except breach of this Agreement by Buyer, will not operate to relieve\\nSeller from its obligation to deliver all Products ordered by Purchase orders of\\nBuyer received by Seller prior to receipt of written notice of such termination.',\n",
       " 'Such termination shall not relieve Buyer from accepting and paying for all\\norders in the production schedule.',\n",
       " '13.0 Other Provisions\\n\\n         13.1 All sales of the Products by Seller to Buyer shall be subject to\\nthe terms, conditions and provisions of this Agreement and shall not be subject\\nto the terms and conditions contained on any purchase order of Buyer or\\nconfirmation or invoice of Seller except insofar as any such purchase order or\\nconfirmation establishes (a) the quantity of Products, (b) the delivery date,\\nand (c) delivery location of such Products.',\n",
       " \"13.2 If, during the term of this Agreement, Baxter receives a written\\noffer with better pricing, terms and conditions or technology compatible with\\nBaxter's requirements, from a supplier to supply products which are of like\\nquality with any of the Products supplied hereunder, and which are deliverable\\nin like quantities, Baxter will notify Seller within thirty (30) days after\\nreceipt from Baxter of such notice, Seller shall, at its option (i) agree upon\\nsuch better pricing, terms and conditions, or technology, or (ii) permit Baxter\\nto purchase from the other source during the time such other source offers\\nBaxter better pricing, terms and conditions, or technology, and the quantities\\nso purchased by Baxter shall be deducted from any quantities covered by this\\nAgreement.\",\n",
       " '13.3 This Agreement contains the entire agreement between the parties\\nrelating to the subject matter herein and all prior proposals, discussions, and\\nwritings by and between the parties and relating to the subject matter herein\\nare superseded by this Agreement.',\n",
       " 'None of the terms of this Agreement shall be\\ndeemed to be waived by either party or amended unless such a waiver or amendment\\nis in writing and is signed by the party to be charged with such waiver or\\n\\n<PAGE>\\n\\n\\n\\n\\n\\namendment, and such writing recites specifically that it is a waiver of, or\\namendment to, the terms of this Agreement.',\n",
       " '13.4 All notices and demands required or permitted to be given or made\\npursuant to this Agreement shall conclusively be presumed for all purposes of\\nthis agreement to be given or made at the time the notice or demand is\\npersonally given or made, or at the time it is placed in an envelope and\\ndeposited in the United States mail, with sufficient postage prepaid, addressed\\nas follows:\\n\\n     If to Buyer                                    If to Seller\\n     -----------                                    ------------\\nVice President of Purchasing              Sr.Vice President, International Sales\\n(I.V.',\n",
       " 'Systems Division)                 CFC International\\nBaxter Healthcare Corporation             500 State Street\\nRoute 120 and Wilson                      Chicago Heights, IL  60411\\nRound Lake, IL  60073\\n\\nor to such other address as to which either party may notify the other.',\n",
       " '13.5 This agreement shall be binding upon and inure to the benefit of\\nthe parties hereto, their successors and assigns.',\n",
       " 'This Agreement shall be\\nassignable by Buyer to any of its affiliates without the consent of Seller, by\\neither party with the written consent of the other, or by either party without\\nthe consent of the other to purchaser of all or substantially all of the assets\\nof its business to which this Agreement relates.',\n",
       " '13.6 This Agreement is deemed to have been entered into in the State of\\nIllinois and its interpretations, construction, and the remedies for its\\nenforcement of breach are to be applied pursuant to and in accordance with the\\nlaws of the State of Illinois.',\n",
       " '13.7 In the event that a court of competent jurisdiction holds that\\nparticular provisions or requirements of this Agreement are in violation of any\\nlaw, such provisions or requirements shall be enforced and shall remain in full\\nforce and effect to the extent they are not in violation of any such law or not\\notherwise unenforceable, and all other provisions and requirements of this\\nAgreement shall remain in full force and effect.',\n",
       " 'In Witness Whereof, the parties have caused this Agreement to be executed by\\ntheir authorized representatives.',\n",
       " 'BAXTER HEALTHCARE CORP             CFC INTERNATIONAL\\n\\n\\nBy:_____________________________             By:_____________________________\\n        Dave Valentini                               Robert E.   Jurgens\\nTitle:  V.P.',\n",
       " 'Purchasing                    Title:  Sr. Vice President,\\n                                                      International Sales\\nDate:___________________________             Date:___________________________\\n\\nDate:___________________________             Date:___________________________\\n\\n</TEXT>\\n</DOCUMENT>']"
      ]
     },
     "execution_count": 3,
     "metadata": {},
     "output_type": "execute_result"
    }
   ],
   "source": [
    "tokenized_text = nltk.sent_tokenize(text_file)\n",
    "\n",
    "tokenized_text"
   ]
  }
 ],
 "metadata": {
  "kernelspec": {
   "display_name": "Python 3 (ipykernel)",
   "language": "python",
   "name": "python3"
  },
  "language_info": {
   "codemirror_mode": {
    "name": "ipython",
    "version": 3
   },
   "file_extension": ".py",
   "mimetype": "text/x-python",
   "name": "python",
   "nbconvert_exporter": "python",
   "pygments_lexer": "ipython3",
   "version": "3.9.13"
  }
 },
 "nbformat": 4,
 "nbformat_minor": 5
}
