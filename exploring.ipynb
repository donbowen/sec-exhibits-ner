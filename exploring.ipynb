{
 "cells": [
  {
   "cell_type": "markdown",
   "id": "a3117a5e-7c66-4b0a-8c40-e4ed7cc69b92",
   "metadata": {},
   "source": [
    "## I. Setup, Installations, and Imports"
   ]
  },
  {
   "cell_type": "markdown",
   "id": "a87ad790-8001-4fe0-b389-3b8c1883ed24",
   "metadata": {},
   "source": [
    "#### (a) Installations\n",
    "\n",
    "Run these if not on your computer already."
   ]
  },
  {
   "cell_type": "code",
   "execution_count": 1,
   "id": "a5756d57-cb7b-4d27-850b-022e162183ef",
   "metadata": {},
   "outputs": [],
   "source": [
    "# ! pip install spacy\n",
    "# ! pip install nltk\n",
    "# ! python -m spacy download en_core_web_sm\n",
    "# ! pip install svgling"
   ]
  },
  {
   "cell_type": "markdown",
   "id": "cf1c90a9-2148-41a3-84f4-0884b30b2b08",
   "metadata": {},
   "source": [
    "#### (b) Imports"
   ]
  },
  {
   "cell_type": "code",
   "execution_count": 2,
   "id": "f44d592f-aa51-45f5-a333-6a1b2efbde84",
   "metadata": {},
   "outputs": [],
   "source": [
    "import pandas as pd\n",
    "import numpy as np\n",
    "import nltk\n",
    "from nltk.corpus import state_union\n",
    "from nltk.tokenize import PunktSentenceTokenizer\n",
    "import glob\n",
    "from tqdm import tqdm\n",
    "from bs4 import BeautifulSoup"
   ]
  },
  {
   "cell_type": "markdown",
   "id": "4348a921-505c-40c4-b626-078e9ee0aed4",
   "metadata": {},
   "source": [
    "#### (c) Downloads\n",
    "\n",
    "Run these if not on your computer already."
   ]
  },
  {
   "cell_type": "code",
   "execution_count": 3,
   "id": "5260beeb-2c7a-49e2-971d-815e177dd8e9",
   "metadata": {},
   "outputs": [],
   "source": [
    "# nltk.download('words')\n",
    "# nltk.download('punkt')\n",
    "# nltk.download('maxent_ne_chunker')\n",
    "# nltk.download('averaged_perceptron_tagger')\n",
    "# nltk.download('state_union')"
   ]
  },
  {
   "cell_type": "markdown",
   "id": "16b811b7-e9ee-4459-baa1-2ed4f28d89bc",
   "metadata": {},
   "source": [
    "## II. Defined Functions Used In Program\n"
   ]
  },
  {
   "cell_type": "markdown",
   "id": "a576a592-0448-4647-8378-47264ac189e0",
   "metadata": {},
   "source": [
    "#### (a) Named Entity Recognizer Function\n",
    "**Input:** A sentence <br> \n",
    "**Output:** A list of the named entity recognizers of that sentence"
   ]
  },
  {
   "cell_type": "code",
   "execution_count": 4,
   "id": "49e07ae0-be32-4e42-b25b-ecce561bdc73",
   "metadata": {},
   "outputs": [],
   "source": [
    "# here is some temp code: i'm trying to figure out how to find/save the verb\n",
    "# sentence = '13.7 In the event that a court of competent jurisdiction holds that\\nparticular provisions or requirements of this Agreement are in violation of any\\nlaw, such provisions or requirements shall be enforced and shall remain in full\\nforce and effect to the extent they are not in violation of any such law or not\\notherwise unenforceable, and all other provisions and requirements of this\\nAgreement shall remain in full force and effect.'\n",
    "# sentence = '13.6 This Agreement is deemed to have been entered into in the State of\\nIllinois and its interpretations, construction, and the remedies for its\\nenforcement of breach are to be applied pursuant to and in accordance with the\\nlaws of the State of Illinois. \t'\n",
    "sentence = '\\nEX-10\\n2\\nex10-11.txt\\nCFC INTERNATIONAL, INC. - CONTRACT ADDENDUM\\n\\n ADDENDUM TO\\n PURCHASE AGREEMENT - DATED MARCH 1, 2001\\n\\nThis Agreement (the \"Addendum\"), effective October 15, 2002, between CFC\\nInternational, a Delaware corporation, (\"CFC\"), and Baxter Healthcare\\nCorporation, a Delaware corporation, and its successors, affiliates and assigns\\n(\"Baxter\"), amends the Purchase Agreement (\"Agreement\") between the two\\ncompanies dated March 1, 2001.'\n",
    "words = nltk.word_tokenize(sentence)         #break down the sentence into words\n",
    "tagged = nltk.pos_tag(words)                 #tag the words with Part of Speech \n",
    "chunks = nltk.ne_chunk(tagged, binary=False) #binary = False named entities are classified (i.e PERSON, ORGANIZATION)\n",
    "\n",
    "# todo experiement here to get verb and subject, once done, implement in function below"
   ]
  },
  {
   "cell_type": "code",
   "execution_count": 5,
   "id": "b6c618be-0b84-4eb9-bd6d-3eae1f163d3a",
   "metadata": {},
   "outputs": [],
   "source": [
    "def ner(sentence): \n",
    "    \n",
    "    words  = nltk.word_tokenize(sentence)        # break down the sentence into words\n",
    "    tagged = nltk.pos_tag(words)                 # tag the words with Part of Speech \n",
    "    chunks = nltk.ne_chunk(tagged, binary=False) # binary = False named entities are classified (i.e PERSON, ORGANIZATION)\n",
    "    \n",
    "    entities = []\n",
    "    \n",
    "    for chunk in chunks:\n",
    "        if hasattr(chunk, 'label'): # hasattr(obj, key) -- checking if chunks have a label or not \n",
    "            entities.append(' '.join(c[0] for c in chunk)) # append entities to array\n",
    "    \n",
    "    # todo add code here as needed to get the verb and subject, (if you get them via looping over chunks, then do within the for loop above)\n",
    "        \n",
    "    return {'entities':entities, \n",
    "           'random_out':np.random.uniform()  }  # todo update the output dictionary to output the verb and subject (and delete the placeholder \"random\" output)"
   ]
  },
  {
   "cell_type": "markdown",
   "id": "586829ef-3a1a-4949-afd4-485d76de01ae",
   "metadata": {},
   "source": [
    "#### (b) Filename Traversal Function\n",
    "**Input:** A Filename **(i.e /inputs/ex10.txt)** <br>\n",
    "**Output:** A list of all the sentence, entities pair in the text file **(i.e [[\"sentence1\", [listOfentities1]], [\"sentence2\", [listOfentities2]]])**"
   ]
  },
  {
   "cell_type": "code",
   "execution_count": 6,
   "id": "0227a2ce-adbb-4966-a2cf-3ab7d966f5db",
   "metadata": {},
   "outputs": [],
   "source": [
    "def doc_trawl(filename):\n",
    "    '''\n",
    "    Output is dict of dicts:\n",
    "    \n",
    "         {sentence: {sentence_level_outputs}}\n",
    "    \n",
    "    where sentence_level_outputs \n",
    "    \n",
    "        {'analysis type/function' : output thereof}\n",
    "    '''\n",
    "    \n",
    "    file_output = {}\n",
    "    \n",
    "    with open(filename, \"r\") as fp:\n",
    "        raw = BeautifulSoup(fp.read(), 'html.parser').get_text()\n",
    "        raw_sentences = nltk.sent_tokenize(raw)\n",
    "    \n",
    "    for sentence in raw_sentences:\n",
    "        \n",
    "        # put all output of this sentence here \n",
    "        # key=analysis type/function, value=output thereof\n",
    "        sentence_level_outputs = {} \n",
    "        \n",
    "        # use ner function  \n",
    "        sentence_level_outputs.update(ner(sentence))\n",
    "        \n",
    "        # any other output we want to add that doesn't rely on the ner tokenization\n",
    "        # should be done here\n",
    "        # to show that the plumbing works correctly, let's add variable 2:\n",
    "        sentence_level_outputs['random_num'] = np.random.uniform()\n",
    "        \n",
    "        # Add to output dictionary\n",
    "        file_output.update({sentence:sentence_level_outputs})\n",
    "        \n",
    "    return file_output"
   ]
  },
  {
   "cell_type": "markdown",
   "id": "269663da-29a9-423b-88a3-3be0d5d01c29",
   "metadata": {},
   "source": [
    "## III. Automation"
   ]
  },
  {
   "cell_type": "code",
   "execution_count": 7,
   "id": "663b4559-824d-4063-93b2-8a84e9cc307c",
   "metadata": {},
   "outputs": [
    {
     "name": "stderr",
     "output_type": "stream",
     "text": [
      "100%|████████████████████████████████████████████████████████████████████████████████████| 2/2 [00:00<00:00,  2.05it/s]\n"
     ]
    }
   ],
   "source": [
    "file_sentence_dict = {}\n",
    "files = glob.glob(\"inputs/*\") #get all the files in the inputs folder\n",
    "\n",
    "for file in tqdm(files,total=len(files)):\n",
    "    file_sentence_dict.update({file: doc_trawl(file)}) #update the dictionary "
   ]
  },
  {
   "cell_type": "markdown",
   "id": "1a4ca1bf-861d-4c6d-b3c2-590d77ffae3d",
   "metadata": {},
   "source": [
    "## IV. Unpacking that into DF\n",
    "\n",
    "Dataframe with \n",
    "- index is filename-sentence\n",
    "- columns are sentence level variables\n",
    "\n",
    "Now we can do diagnostics, examine the output, and use it faster!"
   ]
  },
  {
   "cell_type": "code",
   "execution_count": 8,
   "id": "fdd5dc68-6471-40f9-95c1-34520164ed7a",
   "metadata": {},
   "outputs": [
    {
     "data": {
      "text/html": [
       "<div>\n",
       "<style scoped>\n",
       "    .dataframe tbody tr th:only-of-type {\n",
       "        vertical-align: middle;\n",
       "    }\n",
       "\n",
       "    .dataframe tbody tr th {\n",
       "        vertical-align: top;\n",
       "    }\n",
       "\n",
       "    .dataframe thead th {\n",
       "        text-align: right;\n",
       "    }\n",
       "</style>\n",
       "<table border=\"1\" class=\"dataframe\">\n",
       "  <thead>\n",
       "    <tr style=\"text-align: right;\">\n",
       "      <th></th>\n",
       "      <th></th>\n",
       "      <th>entities</th>\n",
       "      <th>random_out</th>\n",
       "      <th>random_num</th>\n",
       "    </tr>\n",
       "    <tr>\n",
       "      <th>file</th>\n",
       "      <th>sentence</th>\n",
       "      <th></th>\n",
       "      <th></th>\n",
       "      <th></th>\n",
       "    </tr>\n",
       "  </thead>\n",
       "  <tbody>\n",
       "    <tr>\n",
       "      <th rowspan=\"5\" valign=\"top\">inputs\\ex10-11.txt</th>\n",
       "      <th>\\nEX-10\\n2\\nex10-11.txt\\nCFC INTERNATIONAL, INC. - CONTRACT ADDENDUM\\n\\n                                  ADDENDUM TO\\n                    PURCHASE AGREEMENT - DATED MARCH 1, 2001\\n\\nThis  Agreement  (the  \"Addendum\"),  effective  October  15,  2002,  between CFC\\nInternational,   a  Delaware   corporation,   (\"CFC\"),   and  Baxter  Healthcare\\nCorporation, a Delaware corporation, and its successors,  affiliates and assigns\\n(\"Baxter\"),   amends  the  Purchase  Agreement  (\"Agreement\")  between  the  two\\ncompanies dated March 1, 2001.</th>\n",
       "      <td>[CFC, INC., CONTRACT, AGREEMENT, DATED, CFC In...</td>\n",
       "      <td>0.240199</td>\n",
       "      <td>0.598029</td>\n",
       "    </tr>\n",
       "    <tr>\n",
       "      <th>1.</th>\n",
       "      <td>[]</td>\n",
       "      <td>0.5136</td>\n",
       "      <td>0.043709</td>\n",
       "    </tr>\n",
       "    <tr>\n",
       "      <th>General Provisions\\n----------------------\\n\\nAll \"terms and  conditions\" of the original  Agreement will remain  effective as\\nstated in the Agreement with only the specific  revisions as stated below.</th>\n",
       "      <td>[]</td>\n",
       "      <td>0.629221</td>\n",
       "      <td>0.963168</td>\n",
       "    </tr>\n",
       "    <tr>\n",
       "      <th>This\\naddendum applies to CFC products B10EK black and B5603AB black.</th>\n",
       "      <td>[CFC, B10EK, B5603AB]</td>\n",
       "      <td>0.599191</td>\n",
       "      <td>0.369298</td>\n",
       "    </tr>\n",
       "    <tr>\n",
       "      <th>2.0  Distribution\\n-----------------\\n\\nBuyer agrees to purchase foil  requirements for current users,  which are wholly\\nowned  subsidiaries  of Baxter  Healthcare  Corporation.</th>\n",
       "      <td>[Buyer, Baxter Healthcare Corporation]</td>\n",
       "      <td>0.493433</td>\n",
       "      <td>0.015042</td>\n",
       "    </tr>\n",
       "    <tr>\n",
       "      <th>...</th>\n",
       "      <th>...</th>\n",
       "      <td>...</td>\n",
       "      <td>...</td>\n",
       "      <td>...</td>\n",
       "    </tr>\n",
       "    <tr>\n",
       "      <th rowspan=\"5\" valign=\"top\">inputs\\ex10.txt</th>\n",
       "      <th>13.6 This Agreement is deemed to have been entered into in the State of\\nIllinois and its interpretations, construction, and the remedies for its\\nenforcement of breach are to be applied pursuant to and in accordance with the\\nlaws of the State of Illinois.</th>\n",
       "      <td>[Illinois, Illinois]</td>\n",
       "      <td>0.462404</td>\n",
       "      <td>0.107635</td>\n",
       "    </tr>\n",
       "    <tr>\n",
       "      <th>13.7 In the event that a court of competent jurisdiction holds that\\nparticular provisions or requirements of this Agreement are in violation of any\\nlaw, such provisions or requirements shall be enforced and shall remain in full\\nforce and effect to the extent they are not in violation of any such law or not\\notherwise unenforceable, and all other provisions and requirements of this\\nAgreement shall remain in full force and effect.</th>\n",
       "      <td>[]</td>\n",
       "      <td>0.246763</td>\n",
       "      <td>0.471328</td>\n",
       "    </tr>\n",
       "    <tr>\n",
       "      <th>In Witness Whereof, the parties have caused this Agreement to be executed by\\ntheir authorized representatives.</th>\n",
       "      <td>[Witness Whereof]</td>\n",
       "      <td>0.356621</td>\n",
       "      <td>0.149796</td>\n",
       "    </tr>\n",
       "    <tr>\n",
       "      <th>BAXTER HEALTHCARE CORP             CFC INTERNATIONAL\\n\\n\\nBy:_____________________________             By:_____________________________\\n        Dave Valentini                               Robert E.   Jurgens\\nTitle:  V.P.</th>\n",
       "      <td>[BAXTER, HEALTHCARE, CORP, CFC, Dave Valentini...</td>\n",
       "      <td>0.924464</td>\n",
       "      <td>0.925296</td>\n",
       "    </tr>\n",
       "    <tr>\n",
       "      <th>Purchasing                    Title:  Sr. Vice President,\\n                                                      International Sales\\nDate:___________________________             Date:___________________________\\n\\nDate:___________________________             Date:___________________________</th>\n",
       "      <td>[Title, International Sales Date, ____________...</td>\n",
       "      <td>0.112815</td>\n",
       "      <td>0.018243</td>\n",
       "    </tr>\n",
       "  </tbody>\n",
       "</table>\n",
       "<p>77 rows × 3 columns</p>\n",
       "</div>"
      ],
      "text/plain": [
       "                                                                                                                entities  \\\n",
       "file               sentence                                                                                                \n",
       "inputs\\ex10-11.txt \\nEX-10\\n2\\nex10-11.txt\\nCFC INTERNATIONAL, INC...  [CFC, INC., CONTRACT, AGREEMENT, DATED, CFC In...   \n",
       "                   1.                                                                                                 []   \n",
       "                   General Provisions\\n----------------------\\n\\nA...                                                 []   \n",
       "                   This\\naddendum applies to CFC products B10EK bl...                              [CFC, B10EK, B5603AB]   \n",
       "                   2.0  Distribution\\n-----------------\\n\\nBuyer a...             [Buyer, Baxter Healthcare Corporation]   \n",
       "...                                                                                                                  ...   \n",
       "inputs\\ex10.txt    13.6 This Agreement is deemed to have been ente...                               [Illinois, Illinois]   \n",
       "                   13.7 In the event that a court of competent jur...                                                 []   \n",
       "                   In Witness Whereof, the parties have caused thi...                                  [Witness Whereof]   \n",
       "                   BAXTER HEALTHCARE CORP             CFC INTERNAT...  [BAXTER, HEALTHCARE, CORP, CFC, Dave Valentini...   \n",
       "                   Purchasing                    Title:  Sr. Vice ...  [Title, International Sales Date, ____________...   \n",
       "\n",
       "                                                                      random_out  \\\n",
       "file               sentence                                                        \n",
       "inputs\\ex10-11.txt \\nEX-10\\n2\\nex10-11.txt\\nCFC INTERNATIONAL, INC...   0.240199   \n",
       "                   1.                                                     0.5136   \n",
       "                   General Provisions\\n----------------------\\n\\nA...   0.629221   \n",
       "                   This\\naddendum applies to CFC products B10EK bl...   0.599191   \n",
       "                   2.0  Distribution\\n-----------------\\n\\nBuyer a...   0.493433   \n",
       "...                                                                          ...   \n",
       "inputs\\ex10.txt    13.6 This Agreement is deemed to have been ente...   0.462404   \n",
       "                   13.7 In the event that a court of competent jur...   0.246763   \n",
       "                   In Witness Whereof, the parties have caused thi...   0.356621   \n",
       "                   BAXTER HEALTHCARE CORP             CFC INTERNAT...   0.924464   \n",
       "                   Purchasing                    Title:  Sr. Vice ...   0.112815   \n",
       "\n",
       "                                                                      random_num  \n",
       "file               sentence                                                       \n",
       "inputs\\ex10-11.txt \\nEX-10\\n2\\nex10-11.txt\\nCFC INTERNATIONAL, INC...   0.598029  \n",
       "                   1.                                                   0.043709  \n",
       "                   General Provisions\\n----------------------\\n\\nA...   0.963168  \n",
       "                   This\\naddendum applies to CFC products B10EK bl...   0.369298  \n",
       "                   2.0  Distribution\\n-----------------\\n\\nBuyer a...   0.015042  \n",
       "...                                                                          ...  \n",
       "inputs\\ex10.txt    13.6 This Agreement is deemed to have been ente...   0.107635  \n",
       "                   13.7 In the event that a court of competent jur...   0.471328  \n",
       "                   In Witness Whereof, the parties have caused thi...   0.149796  \n",
       "                   BAXTER HEALTHCARE CORP             CFC INTERNAT...   0.925296  \n",
       "                   Purchasing                    Title:  Sr. Vice ...   0.018243  \n",
       "\n",
       "[77 rows x 3 columns]"
      ]
     },
     "execution_count": 8,
     "metadata": {},
     "output_type": "execute_result"
    }
   ],
   "source": [
    "def unpack_tri_level_dict(a_dict):\n",
    "    df = pd.concat(map(lambda x: pd.DataFrame.from_dict(x).T, a_dict.values()), keys=a_dict.keys())\n",
    "    df.index = df.index.rename(['file','sentence'])\n",
    "    return df\n",
    "\n",
    "unpack_tri_level_dict(file_sentence_dict)\n"
   ]
  }
 ],
 "metadata": {
  "kernelspec": {
   "display_name": "Python 3 (ipykernel)",
   "language": "python",
   "name": "python3"
  },
  "language_info": {
   "codemirror_mode": {
    "name": "ipython",
    "version": 3
   },
   "file_extension": ".py",
   "mimetype": "text/x-python",
   "name": "python",
   "nbconvert_exporter": "python",
   "pygments_lexer": "ipython3",
   "version": "3.8.16"
  }
 },
 "nbformat": 4,
 "nbformat_minor": 5
}
